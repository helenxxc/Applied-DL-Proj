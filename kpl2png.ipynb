{
 "cells": [
  {
   "cell_type": "code",
   "execution_count": 37,
   "id": "584dd14e",
   "metadata": {},
   "outputs": [],
   "source": [
    "import pickle"
   ]
  },
  {
   "cell_type": "code",
   "execution_count": 25,
   "id": "e540195c",
   "metadata": {},
   "outputs": [
    {
     "data": {
      "text/plain": [
       "dict_keys(['head_camera', 'left_camera', 'right_camera', 'front_camera'])"
      ]
     },
     "execution_count": 25,
     "metadata": {},
     "output_type": "execute_result"
    }
   ],
   "source": [
    "with open(\"D://!Univ//block_hammer_beat_D435_pkl//episode0//0.pkl\", \"rb\") as f:  # 'rb' 二进制读模式\n",
    "    loaded_data = pickle.load(f)\n",
    "loaded_data[\"observation\"].keys()"
   ]
  },
  {
   "cell_type": "markdown",
   "id": "9e5bb00c",
   "metadata": {},
   "source": [
    "left_camera: no object<br>\n",
    "right_camera: partial vision<br>\n",
    "head_camera: the robot arm may block some vision<br>\n",
    "**front_camera: yield the best vision**"
   ]
  },
  {
   "cell_type": "code",
   "execution_count": null,
   "id": "07140e68",
   "metadata": {},
   "outputs": [
    {
     "name": "stderr",
     "output_type": "stream",
     "text": [
      "Processing episodes: 100%|██████████| 10/10 [00:21<00:00,  2.11s/it]\n"
     ]
    }
   ],
   "source": [
    "import os\n",
    "import pickle\n",
    "from PIL import Image\n",
    "from tqdm import tqdm \n",
    "tasks = [\"block_hammer_beat\", \"blocks_stack_easy\"]\n",
    "\n",
    "def convert_pkl_to_png(task, num_episode, camera):\n",
    "    pkl_base_dir = f\"D:/!Univ/{task}_D435_pkl\"\n",
    "    output_base_dir = f\"D:/!Univ/{task}_png/{camera}\"\n",
    "\n",
    "    os.makedirs(output_base_dir, exist_ok=True)\n",
    "\n",
    "    for e in tqdm(range(num_episode), desc=\"Processing episodes\"):\n",
    "        episode_pkl_dir = os.path.join(pkl_base_dir, f\"episode{e}\")\n",
    "        \n",
    "        episode_output_dir = os.path.join(output_base_dir, f\"episode{e}\")\n",
    "        os.makedirs(episode_output_dir, exist_ok=True)\n",
    "        \n",
    "        pkl_files = sorted(\n",
    "            [f for f in os.listdir(episode_pkl_dir) if f.endswith('.pkl')],\n",
    "            key=lambda x: int(x.split('.')[0])\n",
    "        )\n",
    "\n",
    "        for pkl_file in pkl_files:\n",
    "            pkl_path = os.path.join(episode_pkl_dir, pkl_file)\n",
    "            \n",
    "            with open(pkl_path, \"rb\") as f:\n",
    "                loaded_data = pickle.load(f)\n",
    "\n",
    "            rgb_array = loaded_data[\"observation\"][camera]['rgb']\n",
    "\n",
    "            frame_num = os.path.splitext(pkl_file)[0]\n",
    "            output_path = os.path.join(\n",
    "                episode_output_dir, \n",
    "                f\"{camera}_rgb_{frame_num}.png\"\n",
    "            )\n",
    "\n",
    "            Image.fromarray(rgb_array).save(output_path)\n",
    "                \n",
    "\n",
    "convert_pkl_to_png(tasks[0], 10, \"front_camera\")"
   ]
  },
  {
   "cell_type": "code",
   "execution_count": 34,
   "id": "c4f46055",
   "metadata": {},
   "outputs": [
    {
     "name": "stderr",
     "output_type": "stream",
     "text": [
      "Processing episodes: 100%|██████████| 10/10 [00:24<00:00,  2.47s/it]\n"
     ]
    }
   ],
   "source": [
    "convert_pkl_to_png(tasks[0], 10, \"head_camera\")\n"
   ]
  },
  {
   "cell_type": "code",
   "execution_count": 35,
   "id": "a2cc1bcc",
   "metadata": {},
   "outputs": [
    {
     "name": "stderr",
     "output_type": "stream",
     "text": [
      "Processing episodes: 100%|██████████| 10/10 [00:52<00:00,  5.22s/it]\n"
     ]
    }
   ],
   "source": [
    "convert_pkl_to_png(tasks[1], 10, \"head_camera\")"
   ]
  },
  {
   "cell_type": "code",
   "execution_count": 36,
   "id": "170cbaad",
   "metadata": {},
   "outputs": [
    {
     "name": "stderr",
     "output_type": "stream",
     "text": [
      "Processing episodes: 100%|██████████| 10/10 [00:53<00:00,  5.34s/it]\n"
     ]
    }
   ],
   "source": [
    "convert_pkl_to_png(tasks[1], 10, \"front_camera\")"
   ]
  },
  {
   "cell_type": "code",
   "execution_count": null,
   "id": "552cc772",
   "metadata": {},
   "outputs": [],
   "source": []
  }
 ],
 "metadata": {
  "kernelspec": {
   "display_name": "Python 3",
   "language": "python",
   "name": "python3"
  },
  "language_info": {
   "codemirror_mode": {
    "name": "ipython",
    "version": 3
   },
   "file_extension": ".py",
   "mimetype": "text/x-python",
   "name": "python",
   "nbconvert_exporter": "python",
   "pygments_lexer": "ipython3",
   "version": "3.10.9"
  }
 },
 "nbformat": 4,
 "nbformat_minor": 5
}
