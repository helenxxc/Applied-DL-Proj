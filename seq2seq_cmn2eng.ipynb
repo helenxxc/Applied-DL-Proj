{
 "cells": [
  {
   "cell_type": "code",
   "execution_count": 1,
   "id": "acddc834-2fe2-461e-af5d-cc4b4017cb74",
   "metadata": {
    "execution": {
     "iopub.execute_input": "2025-04-13T14:22:16.764778Z",
     "iopub.status.busy": "2025-04-13T14:22:16.764523Z",
     "iopub.status.idle": "2025-04-13T14:22:21.099320Z",
     "shell.execute_reply": "2025-04-13T14:22:21.098399Z",
     "shell.execute_reply.started": "2025-04-13T14:22:16.764758Z"
    },
    "trusted": true
   },
   "outputs": [
    {
     "name": "stdout",
     "output_type": "stream",
     "text": [
      "Collecting opencc\n",
      "  Downloading OpenCC-1.1.9-cp311-cp311-manylinux2014_x86_64.whl.metadata (13 kB)\n",
      "Downloading OpenCC-1.1.9-cp311-cp311-manylinux2014_x86_64.whl (1.7 MB)\n",
      "\u001b[2K   \u001b[90m━━━━━━━━━━━━━━━━━━━━━━━━━━━━━━━━━━━━━━━━\u001b[0m \u001b[32m1.7/1.7 MB\u001b[0m \u001b[31m22.4 MB/s\u001b[0m eta \u001b[36m0:00:00\u001b[0m00:01\u001b[0m00:01\u001b[0m\n",
      "\u001b[?25hInstalling collected packages: opencc\n",
      "Successfully installed opencc-1.1.9\n"
     ]
    }
   ],
   "source": [
    "!pip install opencc"
   ]
  },
  {
   "cell_type": "code",
   "execution_count": 2,
   "id": "89af9352",
   "metadata": {
    "execution": {
     "iopub.execute_input": "2025-04-13T14:22:21.101117Z",
     "iopub.status.busy": "2025-04-13T14:22:21.100891Z",
     "iopub.status.idle": "2025-04-13T14:22:25.682281Z",
     "shell.execute_reply": "2025-04-13T14:22:25.681643Z",
     "shell.execute_reply.started": "2025-04-13T14:22:21.101098Z"
    },
    "trusted": true
   },
   "outputs": [],
   "source": [
    "from __future__ import unicode_literals, print_function, division\n",
    "from io import open\n",
    "import unicodedata\n",
    "import re\n",
    "import random\n",
    "from opencc import OpenCC\n",
    "\n",
    "import torch\n",
    "import torch.nn as nn\n",
    "from torch import optim\n",
    "import torch.nn.functional as F\n",
    "\n",
    "import numpy as np\n",
    "from torch.utils.data import TensorDataset, DataLoader, RandomSampler\n",
    "from torch.utils.data import random_split\n",
    "\n",
    "import matplotlib.pyplot as plt\n",
    "# plt.switch_backend('agg')\n",
    "import time\n",
    "import math\n",
    "import matplotlib.ticker as ticker\n",
    "import numpy as np\n",
    "import time\n",
    "import json\n",
    "\n",
    "import matplotlib.pyplot as plt\n",
    "from matplotlib import rcParams\n",
    "from mpl_toolkits.axes_grid1 import make_axes_locatable\n",
    "\n",
    "\n",
    "# print(torch.cuda.device_count())\n",
    "device = torch.device(\"cuda\" if torch.cuda.is_available() else \"cpu\")"
   ]
  },
  {
   "cell_type": "code",
   "execution_count": 3,
   "id": "32238cce",
   "metadata": {
    "execution": {
     "iopub.execute_input": "2025-04-13T14:22:25.683311Z",
     "iopub.status.busy": "2025-04-13T14:22:25.682990Z",
     "iopub.status.idle": "2025-04-13T14:22:25.690024Z",
     "shell.execute_reply": "2025-04-13T14:22:25.689457Z",
     "shell.execute_reply.started": "2025-04-13T14:22:25.683292Z"
    },
    "trusted": true
   },
   "outputs": [],
   "source": [
    "SOS_token = 1\n",
    "EOS_token = 2\n",
    "\n",
    "class Lang:\n",
    "    def __init__(self, name):\n",
    "        self.name = name\n",
    "        self.word2index = {\"<UNK>\": 3}\n",
    "        self.word2count = {}\n",
    "        self.index2word = {1: \"SOS\", 2: \"EOS\", 3: \"<UNK>\"}\n",
    "        self.n_words = 3  # Count SOS and EOS\n",
    "\n",
    "    def addSentence(self, sentence):\n",
    "        # print(sentence)\n",
    "        for word in sentence.split(' '):\n",
    "            self.addWord(word)\n",
    "\n",
    "    def addWord(self, word):\n",
    "        if word not in self.word2index:\n",
    "            self.word2index[word] = self.n_words\n",
    "            self.word2count[word] = 1\n",
    "            self.index2word[self.n_words] = word\n",
    "            self.n_words += 1\n",
    "        else:\n",
    "            self.word2count[word] += 1\n",
    "\n",
    "def unicodeToAscii(s):\n",
    "    return ''.join(\n",
    "        c for c in unicodedata.normalize('NFD', s)\n",
    "        if unicodedata.category(c) != 'Mn'\n",
    "    )\n",
    "\n",
    "# Lowercase, trim, and remove non-letter characters but keep numbers and some punctuation\n",
    "def normalizeEn(s):\n",
    "    s = unicodeToAscii(s.lower().strip())\n",
    "    s = re.sub(r\"([.!?])\", r\" \\1\", s)\n",
    "    s = re.sub(r\"[^a-zA-Z!?]+\", r\" \", s)\n",
    "    return s.strip()\n",
    "\n",
    "def normalizeCh(s):\n",
    "    cc = OpenCC('t2s')  ##Traditional Chinese --> Simplified\n",
    "    s = cc.convert(s) \n",
    "    s = s.replace(\" \", \"\")\n",
    "    s = re.findall(r'[\\u4e00-\\u9fa5]', s)\n",
    "    s =  ' '.join(s)\n",
    "    return s"
   ]
  },
  {
   "cell_type": "code",
   "execution_count": 4,
   "id": "678c0134",
   "metadata": {
    "execution": {
     "iopub.execute_input": "2025-04-13T14:22:25.691913Z",
     "iopub.status.busy": "2025-04-13T14:22:25.691730Z",
     "iopub.status.idle": "2025-04-13T14:22:25.716330Z",
     "shell.execute_reply": "2025-04-13T14:22:25.715613Z",
     "shell.execute_reply.started": "2025-04-13T14:22:25.691899Z"
    },
    "trusted": true
   },
   "outputs": [
    {
     "data": {
      "text/plain": [
       "'几 年 前 我 们 的 房 间 里 没 有 什 么 家 具'"
      ]
     },
     "execution_count": 4,
     "metadata": {},
     "output_type": "execute_result"
    }
   ],
   "source": [
    "s = \"幾年前，我們的房間裡沒有什麼家具。\"\n",
    "normalizeCh(s)"
   ]
  },
  {
   "cell_type": "code",
   "execution_count": 5,
   "id": "517e9db7",
   "metadata": {
    "execution": {
     "iopub.execute_input": "2025-04-13T14:22:25.717338Z",
     "iopub.status.busy": "2025-04-13T14:22:25.717091Z",
     "iopub.status.idle": "2025-04-13T14:22:25.730025Z",
     "shell.execute_reply": "2025-04-13T14:22:25.729245Z",
     "shell.execute_reply.started": "2025-04-13T14:22:25.717316Z"
    },
    "trusted": true
   },
   "outputs": [],
   "source": [
    "def clean_file(input_path, output_path):\n",
    "    with open(input_path, 'r', encoding='utf-8') as f:\n",
    "        lines = f.readlines()\n",
    "\n",
    "    cleaned_lines = []\n",
    "    # print(len(lines))\n",
    "    for line in lines:\n",
    "        parts = line.strip().split('\\t')\n",
    "        if len(parts) >= 2:\n",
    "            en = parts[0].strip()\n",
    "            zh = parts[1].strip()\n",
    "            cleaned_lines.append(f\"{en}\\t{zh}\")\n",
    "    # print(parts)\n",
    "    # print(len(cleaned_lines))\n",
    "    with open(output_path, 'w', encoding='utf-8') as f:\n",
    "        for line in cleaned_lines:\n",
    "            f.write(line + '\\n')\n",
    "\n",
    "\n",
    "\n",
    "def readLangs(lang1, lang2, ratio, reverse=False):\n",
    "    print(\"Reading lines...\")\n",
    "\n",
    "    # Read the file and split into lines\n",
    "    lines = open('/kaggle/working/%s-%s.txt' % (lang1, lang2), encoding='utf-8').\\\n",
    "        read().strip().split('\\n')\n",
    "    # lines = lines[:10000]\n",
    "    random.seed(9)\n",
    "    n_lines = len(lines)\n",
    "    split_point = int(n_lines * ratio)\n",
    "    random.shuffle(lines) #shuffle data and then split\n",
    "\n",
    "    # Split every line into pairs and normalize\n",
    "    train_pairs = []\n",
    "    test_pairs = []\n",
    "\n",
    "    global MAX_LENGTH\n",
    "    MAX_LENGTH = 0\n",
    "    \n",
    "    for idx, l in enumerate(lines):\n",
    "        each = l.split('\\t')\n",
    "        s1, s2 = normalizeEn(each[0]), normalizeCh(each[1])\n",
    "        line_pair = [s1, s2]\n",
    "\n",
    "        if idx < split_point:\n",
    "            tmp1 = len(s1.split())\n",
    "            tmp2 = len(s2.split())\n",
    "            max_l = max(tmp1, tmp2)\n",
    "            if max_l > MAX_LENGTH:\n",
    "                MAX_LENGTH = max_l\n",
    "            train_pairs.append(line_pair)\n",
    "\n",
    "            if (idx + 1) % 10000 == 0:\n",
    "                print(f\"Processed {idx + 1} lines\")\n",
    "                print(train_pairs[-1])\n",
    "        else:\n",
    "            test_pairs.append(line_pair)\n",
    "\n",
    "    # Reverse pairs, make Lang instances\n",
    "    if reverse:\n",
    "        train_pairs = [list(reversed(p)) for p in train_pairs]\n",
    "        test_pairs = [list(reversed(p)) for p in test_pairs]\n",
    "        input_lang = Lang(lang2)\n",
    "        output_lang = Lang(lang1)\n",
    "    else:\n",
    "        input_lang = Lang(lang1)\n",
    "        output_lang = Lang(lang2)\n",
    "\n",
    "    return input_lang, output_lang, train_pairs, test_pairs"
   ]
  },
  {
   "cell_type": "code",
   "execution_count": 6,
   "id": "81bdfce0",
   "metadata": {
    "execution": {
     "iopub.execute_input": "2025-04-13T14:22:25.731023Z",
     "iopub.status.busy": "2025-04-13T14:22:25.730833Z",
     "iopub.status.idle": "2025-04-13T14:22:25.745097Z",
     "shell.execute_reply": "2025-04-13T14:22:25.744365Z",
     "shell.execute_reply.started": "2025-04-13T14:22:25.731007Z"
    },
    "trusted": true
   },
   "outputs": [],
   "source": [
    "def prepareData(lang1, lang2, ratio, reverse=True):\n",
    "    input_lang, output_lang, train_pairs, test_pairs = readLangs(lang1, lang2, ratio, reverse)\n",
    "    print(\"Read %s training sentence pairs\" % len(train_pairs))\n",
    "    # print(\"Counting words...\")\n",
    "\n",
    "    for pair in train_pairs:\n",
    "        input_lang.addSentence(pair[0])\n",
    "        output_lang.addSentence(pair[1])\n",
    "\n",
    "    print(\"Counted words:\")\n",
    "    print(input_lang.name, input_lang.n_words)\n",
    "    print(output_lang.name, output_lang.n_words)\n",
    "    return input_lang, output_lang, train_pairs, test_pairs\n",
    "\n",
    "# clean_file('cmn.txt', 'eng-cmn.txt')\n",
    "# input_lang, output_lang, pairs = prepareData('eng', 'cmn', True)\n",
    "# print(random.choice(pairs))"
   ]
  },
  {
   "cell_type": "code",
   "execution_count": 7,
   "id": "d1064c16",
   "metadata": {
    "execution": {
     "iopub.execute_input": "2025-04-13T14:22:25.746306Z",
     "iopub.status.busy": "2025-04-13T14:22:25.746097Z",
     "iopub.status.idle": "2025-04-13T14:22:25.763112Z",
     "shell.execute_reply": "2025-04-13T14:22:25.762352Z",
     "shell.execute_reply.started": "2025-04-13T14:22:25.746291Z"
    },
    "trusted": true
   },
   "outputs": [],
   "source": [
    "def indexesFromSentence(lang, sentence):\n",
    "    # return [lang.word2index[word] for word in sentence.split(' ')]\n",
    "    return [lang.word2index.get(word, lang.word2index[\"<UNK>\"]) for word in sentence.split(' ')]\n",
    "\n",
    "def tensorFromSentence(lang, sentence):\n",
    "    indexes = indexesFromSentence(lang, sentence)\n",
    "    indexes.append(EOS_token)\n",
    "    return torch.tensor(indexes, dtype=torch.long, device=device).view(1, -1)\n",
    "\n",
    "def tensorsFromPair(pair):\n",
    "    input_tensor = tensorFromSentence(input_lang, pair[0])\n",
    "    target_tensor = tensorFromSentence(output_lang, pair[1])\n",
    "    return (input_tensor, target_tensor)\n",
    "\n",
    "def get_dataloader(batch_size, ratio):\n",
    "    input_lang, output_lang, train_pairs, test_pairs = prepareData('eng', 'cmn', ratio, True)\n",
    "\n",
    "    n = len(train_pairs)\n",
    "\n",
    "    input_ids = np.zeros((n, MAX_LENGTH+1), dtype=np.int32)\n",
    "    target_ids = np.zeros((n, MAX_LENGTH+1), dtype=np.int32)\n",
    "\n",
    "    for idx, (inp, tgt) in enumerate(train_pairs):\n",
    "        inp_ids = indexesFromSentence(input_lang, inp)\n",
    "        tgt_ids = indexesFromSentence(output_lang, tgt)\n",
    "        inp_ids.append(EOS_token)\n",
    "        tgt_ids.append(EOS_token)\n",
    "        input_ids[idx, :len(inp_ids)] = inp_ids\n",
    "        target_ids[idx, :len(tgt_ids)] = tgt_ids\n",
    "        if (idx+1) % 10000 == 0:\n",
    "            print(inp, inp_ids)\n",
    "            print(tgt, tgt_ids)\n",
    "            \n",
    "\n",
    "    train_dataset = TensorDataset(torch.LongTensor(input_ids).to(device),\n",
    "                                 torch.LongTensor(target_ids).to(device))\n",
    "\n",
    "    train_dataloader = DataLoader(train_dataset, batch_size=batch_size)\n",
    "    # test_dataloader = DataLoader(test_dataset, batch_size=batch_size)\n",
    "\n",
    "    return input_lang, output_lang, train_dataloader, test_pairs\n"
   ]
  },
  {
   "cell_type": "code",
   "execution_count": 8,
   "id": "915bce4d",
   "metadata": {
    "execution": {
     "iopub.execute_input": "2025-04-13T14:22:25.764121Z",
     "iopub.status.busy": "2025-04-13T14:22:25.763855Z",
     "iopub.status.idle": "2025-04-13T14:22:25.781902Z",
     "shell.execute_reply": "2025-04-13T14:22:25.781370Z",
     "shell.execute_reply.started": "2025-04-13T14:22:25.764093Z"
    },
    "trusted": true
   },
   "outputs": [],
   "source": [
    "class EncoderRNN(nn.Module):\n",
    "    def __init__(self, input_size, hidden_size, dropout_p=0.1):\n",
    "        super(EncoderRNN, self).__init__()\n",
    "        self.hidden_size = hidden_size\n",
    "\n",
    "        self.embedding = nn.Embedding(input_size, hidden_size)\n",
    "        self.gru = nn.GRU(hidden_size, hidden_size, batch_first=True)\n",
    "        self.dropout = nn.Dropout(dropout_p)\n",
    "\n",
    "    def forward(self, input):\n",
    "        embedded = self.dropout(self.embedding(input))\n",
    "        output, hidden = self.gru(embedded)\n",
    "        return output, hidden\n",
    "    \n",
    "class BahdanauAttention(nn.Module):\n",
    "    def __init__(self, hidden_size):\n",
    "        super(BahdanauAttention, self).__init__()\n",
    "        self.Wa = nn.Linear(hidden_size, hidden_size)\n",
    "        self.Ua = nn.Linear(hidden_size, hidden_size)\n",
    "        self.Va = nn.Linear(hidden_size, 1)\n",
    "\n",
    "    def forward(self, query, keys):\n",
    "        scores = self.Va(torch.tanh(self.Wa(query) + self.Ua(keys)))\n",
    "        scores = scores.squeeze(2).unsqueeze(1)\n",
    "\n",
    "        weights = F.softmax(scores, dim=-1)\n",
    "        context = torch.bmm(weights, keys)\n",
    "\n",
    "        return context, weights\n",
    "\n",
    "class AttnDecoderRNN(nn.Module):\n",
    "    def __init__(self, hidden_size, output_size, dropout_p=0.1):\n",
    "        super(AttnDecoderRNN, self).__init__()\n",
    "        self.embedding = nn.Embedding(output_size, hidden_size)\n",
    "        self.attention = BahdanauAttention(hidden_size)\n",
    "        self.gru = nn.GRU(2 * hidden_size, hidden_size, batch_first=True)\n",
    "        self.out = nn.Linear(hidden_size, output_size)\n",
    "        self.dropout = nn.Dropout(dropout_p)\n",
    "\n",
    "    def forward(self, encoder_outputs, encoder_hidden, target_tensor=None):\n",
    "        batch_size = encoder_outputs.size(0)\n",
    "        decoder_input = torch.empty(batch_size, 1, dtype=torch.long, device=device).fill_(SOS_token)\n",
    "        decoder_hidden = encoder_hidden\n",
    "        decoder_outputs = []\n",
    "        attentions = []\n",
    "\n",
    "        for i in range(MAX_LENGTH+1):\n",
    "            decoder_output, decoder_hidden, attn_weights = self.forward_step(\n",
    "                decoder_input, decoder_hidden, encoder_outputs\n",
    "            )\n",
    "            decoder_outputs.append(decoder_output)\n",
    "            attentions.append(attn_weights)\n",
    "\n",
    "            if target_tensor is not None:\n",
    "                decoder_input = target_tensor[:, i].unsqueeze(1) \n",
    "            else:\n",
    "                _, topi = decoder_output.topk(1)\n",
    "                decoder_input = topi.squeeze(-1).detach()  \n",
    "\n",
    "        decoder_outputs = torch.cat(decoder_outputs, dim=1)\n",
    "        decoder_outputs = F.log_softmax(decoder_outputs, dim=-1)\n",
    "        attentions = torch.cat(attentions, dim=1)\n",
    "\n",
    "        return decoder_outputs, decoder_hidden, attentions\n",
    "\n",
    "\n",
    "    def forward_step(self, input, hidden, encoder_outputs):\n",
    "        embedded =  self.dropout(self.embedding(input))\n",
    "\n",
    "        query = hidden.permute(1, 0, 2)\n",
    "        context, attn_weights = self.attention(query, encoder_outputs)\n",
    "        input_gru = torch.cat((embedded, context), dim=2)\n",
    "\n",
    "        output, hidden = self.gru(input_gru, hidden)\n",
    "        output = self.out(output)\n",
    "\n",
    "        return output, hidden, attn_weights"
   ]
  },
  {
   "cell_type": "code",
   "execution_count": 9,
   "id": "d1d13c62",
   "metadata": {
    "execution": {
     "iopub.execute_input": "2025-04-13T14:22:25.782765Z",
     "iopub.status.busy": "2025-04-13T14:22:25.782544Z",
     "iopub.status.idle": "2025-04-13T14:22:25.799621Z",
     "shell.execute_reply": "2025-04-13T14:22:25.798955Z",
     "shell.execute_reply.started": "2025-04-13T14:22:25.782751Z"
    },
    "trusted": true
   },
   "outputs": [],
   "source": [
    "def showPlot(losses):\n",
    "    plt.figure(figsize=(8,5))\n",
    "    plt.plot(np.arange(len(losses))+1, losses)\n",
    "    plt.xlabel(\"Epoch\")\n",
    "    plt.ylabel(\"Training Loss\")\n",
    "    plt.grid()\n",
    "\n",
    "def asMinutes(s):\n",
    "    m = math.floor(s / 60)\n",
    "    s -= m * 60\n",
    "    return '%dm %ds' % (m, s)\n",
    "\n",
    "def timeSince(since, percent):\n",
    "    now = time.time()\n",
    "    s = now - since\n",
    "    es = s / (percent)\n",
    "    rs = es - s\n",
    "    return '%s (- %s)' % (asMinutes(s), asMinutes(rs))\n",
    "\n",
    "def train_epoch(dataloader, encoder, decoder, encoder_optimizer,\n",
    "          decoder_optimizer, criterion):\n",
    "\n",
    "    total_loss = 0\n",
    "    for data in dataloader:\n",
    "        input_tensor, target_tensor = data\n",
    "\n",
    "        encoder_optimizer.zero_grad()\n",
    "        decoder_optimizer.zero_grad()\n",
    "\n",
    "        encoder_outputs, encoder_hidden = encoder(input_tensor)\n",
    "        decoder_outputs, _, _ = decoder(encoder_outputs, encoder_hidden, target_tensor)\n",
    "\n",
    "        loss = criterion(\n",
    "            decoder_outputs.view(-1, decoder_outputs.size(-1)),\n",
    "            target_tensor.view(-1)\n",
    "        )\n",
    "        loss.backward()\n",
    "\n",
    "        encoder_optimizer.step()\n",
    "        decoder_optimizer.step()\n",
    "\n",
    "        total_loss += loss.item()\n",
    "\n",
    "    return total_loss / len(dataloader)\n",
    "    \n",
    "def train(train_dataloader, encoder, decoder, n_epochs, learning_rate=0.001, print_every = 5):\n",
    "    start = time.time()\n",
    "    plot_losses = []\n",
    "    print_loss_total = 0  \n",
    "    plot_loss_total = 0  \n",
    "\n",
    "    encoder_optimizer = optim.Adam(encoder.parameters(), lr=learning_rate)\n",
    "    decoder_optimizer = optim.Adam(decoder.parameters(), lr=learning_rate)\n",
    "    criterion = nn.NLLLoss()\n",
    "\n",
    "    for epoch in range(1, n_epochs + 1):\n",
    "        loss = train_epoch(train_dataloader, encoder, decoder, encoder_optimizer, decoder_optimizer, criterion)\n",
    "        print_loss_total += loss\n",
    "        # plot_loss_total += loss\n",
    "\n",
    "        if epoch % print_every == 0:\n",
    "            print_loss_avg = print_loss_total / print_every\n",
    "            print_loss_total = 0\n",
    "            print('%s (%d %d%%) %.4f' % (timeSince(start, epoch / n_epochs),\n",
    "                                        epoch, epoch / n_epochs * 100, print_loss_avg))\n",
    "            # print(f'%.4f' % (print_loss_avg))\n",
    "\n",
    "\n",
    "        plot_losses.append(loss)\n",
    "\n",
    "    # showPlot(plot_losses)\n",
    "    return plot_losses"
   ]
  },
  {
   "cell_type": "code",
   "execution_count": 11,
   "id": "f6380c92-bf32-4770-b817-3bcfcf7ec2f1",
   "metadata": {
    "execution": {
     "iopub.execute_input": "2025-04-13T14:23:55.439411Z",
     "iopub.status.busy": "2025-04-13T14:23:55.438847Z",
     "iopub.status.idle": "2025-04-13T14:23:55.445553Z",
     "shell.execute_reply": "2025-04-13T14:23:55.444892Z",
     "shell.execute_reply.started": "2025-04-13T14:23:55.439391Z"
    },
    "trusted": true
   },
   "outputs": [],
   "source": [
    "def evaluate(encoder, decoder, sentence, input_lang, output_lang):\n",
    "    with torch.no_grad():\n",
    "        input_tensor = tensorFromSentence(input_lang, sentence)\n",
    "        # print(input_tensor)\n",
    "\n",
    "        encoder_outputs, encoder_hidden = encoder(input_tensor)\n",
    "        # print(encoder_outputs)\n",
    "        decoder_outputs, decoder_hidden, decoder_attn = decoder(encoder_outputs, encoder_hidden)\n",
    "\n",
    "        _, topi = decoder_outputs.topk(1)\n",
    "        decoded_ids = topi.squeeze()\n",
    "\n",
    "        decoded_words = []\n",
    "        for idx in decoded_ids:\n",
    "            if idx.item() == EOS_token:\n",
    "                decoded_words.append('<EOS>')\n",
    "                break\n",
    "            decoded_words.append(output_lang.index2word[idx.item()])\n",
    "    return decoded_words, decoder_attn\n",
    "    \n",
    "# print(test_data)\n",
    "# sentence = \"我 喜 欢 吃 鸡 蛋\"\n",
    "# output_words, _ = evaluate(encoder, decoder, sentence, input_lang, output_lang)\n",
    "# print(' '.join(output_words))\n",
    "\n",
    "def evaluateOutput(encoder, decoder, test_pairs, n):\n",
    "    output = {}\n",
    "    for i in range(n):\n",
    "        pair = test_pairs[i]#random.choice(test_pairs)\n",
    "        output_words, attentions = evaluate(encoder, decoder, pair[0], input_lang, output_lang)\n",
    "    \n",
    "        # output_sentence = ' '.join(output_words)\n",
    "        output[i] = [pair[0], pair[1], output_words, attentions.tolist()]\n",
    "        # if i % 300 == 0:\n",
    "        #     print('>', pair[0])\n",
    "        #     print('=', pair[1])\n",
    "        #     print('<', output_sentence)\n",
    "    \n",
    "    return output"
   ]
  },
  {
   "cell_type": "code",
   "execution_count": 12,
   "id": "367d6678",
   "metadata": {
    "execution": {
     "iopub.execute_input": "2025-04-13T14:23:59.914750Z",
     "iopub.status.busy": "2025-04-13T14:23:59.914114Z",
     "iopub.status.idle": "2025-04-13T14:24:51.278700Z",
     "shell.execute_reply": "2025-04-13T14:24:51.278077Z",
     "shell.execute_reply.started": "2025-04-13T14:23:59.914728Z"
    },
    "trusted": true
   },
   "outputs": [
    {
     "name": "stdout",
     "output_type": "stream",
     "text": [
      "Reading lines...\n",
      "Processed 10000 lines\n",
      "['i want a boat', '我 想 要 一 艘 船']\n",
      "Processed 20000 lines\n",
      "['we made pancakes for breakfast', '我 们 早 餐 做 了 煎 饼']\n",
      "Read 26918 training sentence pairs\n",
      "Counted words:\n",
      "cmn 2707\n",
      "eng 6760\n",
      "我 想 要 一 艘 船 [18, 31, 117, 58, 1651, 921, 2]\n",
      "i want a boat [23, 289, 42, 3113, 2]\n",
      "我 们 早 餐 做 了 煎 饼 [18, 19, 209, 880, 108, 6, 2564, 2116, 2]\n",
      "we made pancakes for breakfast [16, 8, 5999, 256, 1151, 2]\n"
     ]
    }
   ],
   "source": [
    "clean_file('/kaggle/input/trans-data/cmn.txt', 'eng-cmn.txt')\n",
    "hidden_size = 256\n",
    "batch_size = 64\n",
    "input_lang, output_lang, train_dataloader, test_data = get_dataloader(batch_size,ratio=0.9)"
   ]
  },
  {
   "cell_type": "code",
   "execution_count": 13,
   "id": "dc346de8",
   "metadata": {
    "execution": {
     "iopub.execute_input": "2025-04-13T14:24:51.280913Z",
     "iopub.status.busy": "2025-04-13T14:24:51.280337Z",
     "iopub.status.idle": "2025-04-13T15:29:16.371926Z",
     "shell.execute_reply": "2025-04-13T15:29:16.371169Z",
     "shell.execute_reply.started": "2025-04-13T14:24:51.280896Z"
    },
    "trusted": true
   },
   "outputs": [
    {
     "name": "stdout",
     "output_type": "stream",
     "text": [
      "3m 4s (- 58m 30s) (5 5%) 0.5992\n",
      "6m 6s (- 54m 54s) (10 10%) 0.2423\n",
      "9m 6s (- 51m 37s) (15 15%) 0.1268\n",
      "12m 9s (- 48m 37s) (20 20%) 0.0809\n",
      "15m 27s (- 46m 21s) (25 25%) 0.0584\n",
      "18m 57s (- 44m 13s) (30 30%) 0.0465\n",
      "22m 19s (- 41m 27s) (35 35%) 0.0395\n",
      "25m 45s (- 38m 37s) (40 40%) 0.0350\n",
      "29m 7s (- 35m 35s) (45 45%) 0.0320\n",
      "32m 26s (- 32m 26s) (50 50%) 0.0297\n",
      "35m 47s (- 29m 16s) (55 55%) 0.0282\n",
      "39m 10s (- 26m 7s) (60 60%) 0.0271\n",
      "42m 36s (- 22m 56s) (65 65%) 0.0262\n",
      "45m 59s (- 19m 42s) (70 70%) 0.0253\n",
      "49m 22s (- 16m 27s) (75 75%) 0.0246\n",
      "52m 28s (- 13m 7s) (80 80%) 0.0240\n",
      "55m 28s (- 9m 47s) (85 85%) 0.0233\n",
      "58m 26s (- 6m 29s) (90 90%) 0.0232\n",
      "61m 25s (- 3m 13s) (95 95%) 0.0227\n",
      "64m 24s (- 0m 0s) (100 100%) 0.0224\n"
     ]
    },
    {
     "data": {
      "image/png": "[encoded data removed]",
      "text/plain": [
       "<Figure size 800x500 with 1 Axes>"
      ]
     },
     "metadata": {},
     "output_type": "display_data"
    }
   ],
   "source": [
    "Encoder = EncoderRNN(input_lang.n_words, hidden_size).to(device)\n",
    "Decoder = AttnDecoderRNN(hidden_size, output_lang.n_words).to(device)\n",
    "\n",
    "train_loss = train(train_dataloader, Encoder, Decoder, 100, print_every=5)\n",
    "showPlot(train_loss)"
   ]
  },
  {
   "cell_type": "code",
   "execution_count": 15,
   "id": "d7dc48a0-d41a-4744-ad2d-8c35c8576787",
   "metadata": {
    "execution": {
     "iopub.execute_input": "2025-04-13T15:29:41.948706Z",
     "iopub.status.busy": "2025-04-13T15:29:41.947961Z",
     "iopub.status.idle": "2025-04-13T15:30:53.501351Z",
     "shell.execute_reply": "2025-04-13T15:30:53.500785Z",
     "shell.execute_reply.started": "2025-04-13T15:29:41.948675Z"
    },
    "trusted": true
   },
   "outputs": [],
   "source": [
    "Encoder.eval()\n",
    "Decoder.eval()\n",
    "output = evaluateOutput(Encoder, Decoder, test_data, len(test_data))\n",
    "\n",
    "# save first for later work\n",
    "with open(\"eval_output.json\", \"w\",encoding='utf-8') as f:\n",
    "    json.dump(output, f,ensure_ascii=False, indent=4)"
   ]
  },
  {
   "cell_type": "code",
   "execution_count": 27,
   "id": "ec4ba29a-2362-4e0c-bff9-630145ba757a",
   "metadata": {
    "execution": {
     "iopub.execute_input": "2025-04-13T15:30:53.502736Z",
     "iopub.status.busy": "2025-04-13T15:30:53.502490Z",
     "iopub.status.idle": "2025-04-13T15:30:53.509086Z",
     "shell.execute_reply": "2025-04-13T15:30:53.508331Z",
     "shell.execute_reply.started": "2025-04-13T15:30:53.502715Z"
    },
    "trusted": true
   },
   "outputs": [],
   "source": [
    "def showAttention(input_sentence, output_words, attentions):\n",
    "    rcParams['font.sans-serif'] = ['SimHei'] \n",
    "    rcParams['axes.unicode_minus'] = False\n",
    "        \n",
    "    fig, ax = plt.subplots(figsize =(8,6))\n",
    "    \n",
    "    im = ax.matshow(attentions, cmap = 'bone')\n",
    "    # fig.colorbar(cax)\n",
    "\n",
    "    divider = make_axes_locatable(ax)\n",
    "    cax = divider.append_axes(\"right\", size=\"5%\", pad=0.1)\n",
    "    cbar = plt.colorbar(im, cax=cax)\n",
    "    \n",
    "    input_tokens = input_sentence.split(\" \") + ['<EOS>']\n",
    "    output_tokens = output_words       \n",
    "    # print(input_tokens)\n",
    "    ax.set_xticks(range(len(input_tokens)))\n",
    "    ax.set_xticklabels(input_tokens)\n",
    "    \n",
    "    ax.set_yticks(range(len(output_tokens)))\n",
    "    ax.set_yticklabels(output_tokens)\n",
    "\n",
    "    ax.xaxis.set_major_locator(ticker.MultipleLocator(1))\n",
    "    ax.yaxis.set_major_locator(ticker.MultipleLocator(1))\n",
    "    \n",
    "    plt.tight_layout()\n",
    "    plt.show()\n",
    "\n",
    "\n",
    "\n",
    "def evaluateAndShowAttention(input_sentence, output_words, ground_true, attentions, if_show):\n",
    "    # output_words, attentions = evaluate(encoder, decoder, input_sentence, input_lang, output_lang)\n",
    "    print('input =', input_sentence)\n",
    "    print('output =', ' '.join(output_words))\n",
    "    print(\"ground truth =\", ground_true)\n",
    "    if if_show:\n",
    "        showAttention(input_sentence, output_words, attentions[0, :len(output_words), :])"
   ]
  },
  {
   "cell_type": "code",
   "execution_count": 25,
   "id": "bb49a4b0-0f4f-46fd-a92b-6885356d9ac0",
   "metadata": {
    "execution": {
     "iopub.execute_input": "2025-04-13T15:33:05.358303Z",
     "iopub.status.busy": "2025-04-13T15:33:05.358083Z",
     "iopub.status.idle": "2025-04-13T15:33:06.526802Z",
     "shell.execute_reply": "2025-04-13T15:33:06.526154Z",
     "shell.execute_reply.started": "2025-04-13T15:33:05.358287Z"
    },
    "trusted": true
   },
   "outputs": [
    {
     "name": "stdout",
     "output_type": "stream",
     "text": [
      "73 ['我 们 试 著 阻 止 你', 'we tried to stop you', ['we', 'tried', 'to', 'stop', '<EOS>']]\n",
      "2216 ['如 果 你 有 一 万 美 元 你 想 做 什 么 呢', 'what would you do if you had ten thousand dollars ?', ['what', 'you', 'do', '?', '<EOS>']]\n",
      "1730 ['汤 姆 是 个 骗 子', 'tom is deceitful', ['tom', 's', 'an', 'idiot', '<EOS>']]\n",
      "607 ['昨 天 晚 上 六 点 钟 我 们 来 到 了 这 里', 'we arrived here at six yesterday evening', ['come', 'back', 'late', 'at', 'six', 'tomorrow', 'morning', '<EOS>']]\n",
      "341 ['在 墨 西 哥 有 很 多 贫 民 窟', 'there are many slums in mexico', ['there', 'were', 'many', 'passengers', 'in', 'that', 'a', 'lot', 'of', 'death', '<EOS>']]\n"
     ]
    }
   ],
   "source": [
    "with open(\"eval_output.json\", \"r\",encoding='utf-8') as f:\n",
    "    data = json.load(f)\n",
    "\n",
    "idx = random.choices(range(len(data)),k=5)\n",
    "for i in idx:\n",
    "    print(str(i), data[str(i)][:3])"
   ]
  },
  {
   "cell_type": "code",
   "execution_count": 28,
   "id": "4f4f9574",
   "metadata": {},
   "outputs": [
    {
     "name": "stdout",
     "output_type": "stream",
     "text": [
      "input = 汤 姆 去 了 玛 丽 家\n",
      "output = tom went over mary s house <EOS>\n",
      "ground truth = tom went to mary s\n",
      "\n",
      "input = 汤 姆 病 了\n",
      "output = tom sick <EOS>\n",
      "ground truth = tom s sick\n",
      "\n",
      "input = 那 条 新 裙 子 让 她 很 满 意\n",
      "output = she was satisfied with the new dress job <EOS>\n",
      "ground truth = she was pleased with the new dress\n",
      "\n",
      "input = 她 企 图 自 杀\n",
      "output = she tried to kill herself <EOS>\n",
      "ground truth = she tried to commit suicide\n",
      "\n",
      "input = 跟 我 们 一 起 来 吧\n",
      "output = come along together <EOS>\n",
      "ground truth = come along with us\n",
      "\n",
      "input = 比 萨 是 我 最 喜 欢 的 食 物\n",
      "output = pizza is my favorite food ? <EOS>\n",
      "ground truth = pizza is my favorite food\n",
      "\n",
      "input = 每 个 人 都 佩 服 他 的 勇 气\n",
      "output = everyone admired his courage <EOS>\n",
      "ground truth = everybody admired his courage\n"
     ]
    },
    {
     "data": {
      "image/png": "[encoded data removed]",
      "text/plain": [
       "<Figure size 800x600 with 2 Axes>"
      ]
     },
     "metadata": {},
     "output_type": "display_data"
    },
    {
     "name": "stdout",
     "output_type": "stream",
     "text": [
      "\n",
      "input = 祝 你 好 运\n",
      "output = good luck <EOS>\n",
      "ground truth = good luck\n"
     ]
    },
    {
     "data": {
      "image/png": "[encoded data removed]",
      "text/plain": [
       "<Figure size 800x600 with 2 Axes>"
      ]
     },
     "metadata": {},
     "output_type": "display_data"
    },
    {
     "name": "stdout",
     "output_type": "stream",
     "text": [
      "\n"
     ]
    }
   ],
   "source": [
    "good = [151, 225, 278, 340, 375, 204, 2, 2926]\n",
    "bad = [571, 1160, 1245, 1044, 1340]\n",
    "\n",
    "for idx in range(len(good)):\n",
    "    if idx == len(good)-1 or idx == len(good)-2:\n",
    "        i = str(good[idx])\n",
    "        evaluateAndShowAttention(data[i][0], data[i][2], data[i][1], np.array(data[i][3]), True)\n",
    "    else:\n",
    "        i = str(good[idx])\n",
    "        evaluateAndShowAttention(data[i][0], data[i][2], data[i][1], np.array(data[i][3]), False)\n",
    "    print()"
   ]
  },
  {
   "cell_type": "code",
   "execution_count": 29,
   "id": "c435df7c",
   "metadata": {},
   "outputs": [
    {
     "name": "stdout",
     "output_type": "stream",
     "text": [
      "input = 我 们 试 图 让 手 指 互 相 交 错\n",
      "output = we try to make mistakes <EOS>\n",
      "ground truth = we kept our fingers crossed\n",
      "\n",
      "input = 我 们 现 在 缺 乏 库 存\n",
      "output = we are sitting in our downtown <EOS>\n",
      "ground truth = we re out of stock now\n",
      "\n",
      "input = 再 检 查 一 下 汤 姆 的 脉 搏\n",
      "output = later tom turned down <EOS>\n",
      "ground truth = check tom s pulse again\n",
      "\n",
      "input = 他 应 该 来 的\n",
      "output = he come <EOS>\n",
      "ground truth = he was supposed to come\n"
     ]
    },
    {
     "data": {
      "image/png": "[encoded data removed]",
      "text/plain": [
       "<Figure size 800x600 with 2 Axes>"
      ]
     },
     "metadata": {},
     "output_type": "display_data"
    },
    {
     "name": "stdout",
     "output_type": "stream",
     "text": [
      "\n",
      "input = 我 们 可 全 靠 你 了\n",
      "output = we ve keys <EOS>\n",
      "ground truth = we depend on you\n"
     ]
    },
    {
     "data": {
      "image/png": "[encoded data removed]",
      "text/plain": [
       "<Figure size 800x600 with 2 Axes>"
      ]
     },
     "metadata": {},
     "output_type": "display_data"
    },
    {
     "name": "stdout",
     "output_type": "stream",
     "text": [
      "\n"
     ]
    }
   ],
   "source": [
    "for idx in range(len(bad)):\n",
    "    if idx == len(bad)-1 or idx == len(bad)-2:\n",
    "        i = str(bad[idx])\n",
    "        evaluateAndShowAttention(data[i][0], data[i][2], data[i][1], np.array(data[i][3]), True)\n",
    "    else:\n",
    "        i = str(bad[idx])\n",
    "        evaluateAndShowAttention(data[i][0], data[i][2], data[i][1], np.array(data[i][3]), False)\n",
    "    print()"
   ]
  },
  {
   "cell_type": "code",
   "execution_count": null,
   "id": "2043b384",
   "metadata": {},
   "outputs": [],
   "source": []
  }
 ],
 "metadata": {
  "kaggle": {
   "accelerator": "nvidiaTeslaT4",
   "dataSources": [
    {
     "datasetId": 7120419,
     "sourceId": 11373792,
     "sourceType": "datasetVersion"
    }
   ],
   "dockerImageVersionId": 31011,
   "isGpuEnabled": true,
   "isInternetEnabled": true,
   "language": "python",
   "sourceType": "notebook"
  },
  "kernelspec": {
   "display_name": "base",
   "language": "python",
   "name": "python3"
  },
  "language_info": {
   "codemirror_mode": {
    "name": "ipython",
    "version": 3
   },
   "file_extension": ".py",
   "mimetype": "text/x-python",
   "name": "python",
   "nbconvert_exporter": "python",
   "pygments_lexer": "ipython3",
   "version": "3.9.13"
  }
 },
 "nbformat": 4,
 "nbformat_minor": 5
}
