{
 "cells": [
  {
   "cell_type": "code",
   "execution_count": 2,
   "id": "c651e776-5efc-4ea4-92ce-dfe6eb356244",
   "metadata": {
    "execution": {
     "iopub.execute_input": "2025-04-17T02:47:00.195526Z",
     "iopub.status.busy": "2025-04-17T02:47:00.195221Z",
     "iopub.status.idle": "2025-04-17T02:47:11.871848Z",
     "shell.execute_reply": "2025-04-17T02:47:11.870733Z",
     "shell.execute_reply.started": "2025-04-17T02:47:00.195501Z"
    },
    "trusted": true
   },
   "outputs": [
    {
     "name": "stdout",
     "output_type": "stream",
     "text": [
      "Collecting opencc\n",
      "  Downloading OpenCC-1.1.9-cp310-cp310-manylinux2014_x86_64.whl.metadata (13 kB)\n",
      "Downloading OpenCC-1.1.9-cp310-cp310-manylinux2014_x86_64.whl (1.7 MB)\n",
      "\u001b[2K   \u001b[90m━━━━━━━━━━━━━━━━━━━━━━━━━━━━━━━━━━━━━━━━\u001b[0m \u001b[32m1.7/1.7 MB\u001b[0m \u001b[31m9.2 MB/s\u001b[0m eta \u001b[36m0:00:00\u001b[0m:00:01\u001b[0m0:01\u001b[0m\n",
      "\u001b[?25hInstalling collected packages: opencc\n",
      "Successfully installed opencc-1.1.9\n",
      "  Running command git clone --filter=blob:none --quiet https://github.com/karpathy/minGPT.git /tmp/pip-req-build-p7gz9x_u\n"
     ]
    }
   ],
   "source": [
    "!pip install opencc\n",
    "!pip install git+https://github.com/karpathy/minGPT.git > /dev/null"
   ]
  },
  {
   "cell_type": "code",
   "execution_count": 3,
   "id": "a0d64a82",
   "metadata": {
    "execution": {
     "iopub.execute_input": "2025-04-17T02:47:11.873896Z",
     "iopub.status.busy": "2025-04-17T02:47:11.873532Z",
     "iopub.status.idle": "2025-04-17T02:47:12.010253Z",
     "shell.execute_reply": "2025-04-17T02:47:12.009593Z",
     "shell.execute_reply.started": "2025-04-17T02:47:11.873860Z"
    },
    "trusted": true
   },
   "outputs": [],
   "source": [
    "import torch\n",
    "from torch.utils.data import Dataset\n",
    "from transformers import GPT2Tokenizer\n",
    "import pickle\n",
    "from opencc import OpenCC\n",
    "import random\n",
    "from torch.utils.data.dataloader import DataLoader\n",
    "import json\n",
    "import matplotlib.pyplot as plt\n",
    "import numpy as np\n",
    "import re\n",
    "import unicodedata\n",
    "\n",
    "def clean_file(input_path, output_path):\n",
    "    with open(input_path, 'r', encoding='utf-8') as f:\n",
    "        lines = f.readlines()\n",
    "\n",
    "    cleaned_lines = []\n",
    "    # print(len(lines))\n",
    "    for line in lines:\n",
    "        parts = line.strip().split('\\t')\n",
    "        if len(parts) >= 2:\n",
    "            en = parts[0].strip()\n",
    "            zh = parts[1].strip()\n",
    "            cleaned_lines.append(f\"{en}\\t{zh}\")\n",
    "    # print(parts)\n",
    "    # print(len(cleaned_lines))\n",
    "    with open(output_path, 'w', encoding='utf-8') as f:\n",
    "        for line in cleaned_lines:\n",
    "            f.write(line + '\\n')\n",
    "\n",
    "clean_file('/kaggle/input/cmn-eng/cmn.txt', 'eng-cmn.txt')"
   ]
  },
  {
   "cell_type": "code",
   "execution_count": 4,
   "id": "6abc6584-9e3d-4958-8064-a5f7bb5a0f6b",
   "metadata": {
    "execution": {
     "iopub.execute_input": "2025-04-17T02:47:21.770035Z",
     "iopub.status.busy": "2025-04-17T02:47:21.769687Z",
     "iopub.status.idle": "2025-04-17T02:47:21.782406Z",
     "shell.execute_reply": "2025-04-17T02:47:21.781443Z",
     "shell.execute_reply.started": "2025-04-17T02:47:21.769997Z"
    },
    "trusted": true
   },
   "outputs": [],
   "source": [
    "def unicodeToAscii(s):\n",
    "    return ''.join(\n",
    "        c for c in unicodedata.normalize('NFD', s)\n",
    "        if unicodedata.category(c) != 'Mn'\n",
    "    )\n",
    "\n",
    "def normalizeEn(s):\n",
    "    s = unicodeToAscii(s.lower().strip())\n",
    "    s = re.sub(r\"[^\\w\\s]\", \"\", s)  # 去掉所有标点\n",
    "    s = re.sub(r\"\\s+\", \" \", s)\n",
    "    return s.strip()\n",
    "\n",
    "def normalizeCh(s):\n",
    "    cc = OpenCC('t2s')  ##Traditional Chinese --> Simplified\n",
    "    s = cc.convert(s) \n",
    "    s = s.replace(\" \", \"\")\n",
    "    s = re.findall(r'[\\u4e00-\\u9fa5]', s)\n",
    "    s =  ''.join(s)\n",
    "    return s\n",
    "\n",
    "class TranslationDataset(Dataset):\n",
    "    def __init__(self, split, filepath = \"eng-cmn.txt\", block_size=128):\n",
    "        self.pairs = []\n",
    "        with open(filepath, 'r', encoding='utf-8') as f:\n",
    "            idx = 0\n",
    "            for line in f:\n",
    "                if '\\t' in line:\n",
    "                    en, zh = line.strip().split('\\t')[:2]\n",
    "                    zh = zh.replace(\" \", \"\")\n",
    "                    h = hash(pickle.dumps((zh, en)))\n",
    "                    inp_split = 'test' if h % 10 == 0 else 'train'  # 10% for test dataset\n",
    "                    if inp_split != split:\n",
    "                        continue\n",
    "\n",
    "                    self.pairs.append((normalizeCh(zh), normalizeEn(en)))\n",
    "                idx += 1\n",
    "                if (idx+1)%5000 == 0:\n",
    "                    print(f\"processing line {idx+1}\")\n",
    "            print(f\"processsing line {len(self.pairs)}. Done.\")\n",
    "        \n",
    "        self.tokenizer = GPT2Tokenizer.from_pretrained('gpt2')\n",
    "        self.tokenizer.pad_token = self.tokenizer.eos_token\n",
    "        self.sep_token = \"<sep>\"\n",
    "        self.eos_token = \"<|endoftext|>\"\n",
    "\n",
    "        # if self.sep_token not in self.tokenizer.get_vocab():\n",
    "        #     self.tokenizer.add_special_tokens({'additional_special_tokens': [self.sep_token, self.eos_token]})\n",
    "        num_added = self.tokenizer.add_special_tokens({'additional_special_tokens': [self.sep_token]})\n",
    "\n",
    "        self.block_size = block_size\n",
    "        self.vocab = self.tokenizer.get_vocab()\n",
    "        # self.vocab_size = list(self.vocab.items())[-1][1]\n",
    "        # self.block_size = block_size\n",
    "        self.vocab_size = len(self.tokenizer) \n",
    "        \n",
    "        random.seed(9)\n",
    "        random.shuffle(self.pairs)\n",
    "        self.split = split\n",
    "\n",
    "    def __len__(self):\n",
    "        return len(self.pairs)\n",
    "\n",
    "    \n",
    "    def get_vocab_size(self):\n",
    "        return self.vocab_size\n",
    "    \n",
    "    def get_block_size(self):\n",
    "        return self.block_size\n",
    "\n",
    "    def __getitem__(self, idx):\n",
    "        zh, en = self.pairs[idx]\n",
    "        \n",
    "        # input = zh + <sep> + en + <eos>\n",
    "        # full_text = zh + self.sep_token + en + self.eos_token\n",
    "\n",
    "        encoded_zh = self.tokenizer(zh+self.sep_token, return_tensors=\"pt\")[\"input_ids\"].squeeze(0)\n",
    "        encoded_en = self.tokenizer(en+self.eos_token, return_tensors=\"pt\")[\"input_ids\"].squeeze(0)\n",
    "\n",
    "        cat = torch.cat((encoded_zh, encoded_en), dim=0)\n",
    "\n",
    "        x = cat[:-1].clone()\n",
    "        y = cat[1:].clone()\n",
    "        sep_id = self.tokenizer.convert_tokens_to_ids(self.sep_token)\n",
    "        eos_id = self.tokenizer.convert_tokens_to_ids(self.eos_token)\n",
    "        y_start = y.tolist().index(sep_id)\n",
    "        pad_x = torch.ones(self.block_size, dtype=torch.long) * eos_id\n",
    "        pad_x[:len(x)] = x\n",
    "        pad_y = torch.ones(self.block_size,dtype=torch.long) * (-1)\n",
    "        # pad_y[:y_start+1] = -1\n",
    "        pad_y[y_start+1:y_start+1+len(encoded_en)] = encoded_en\n",
    "        # pad_y[y_start+1+len(encoded_en):] = -1\n",
    "\n",
    "        # print(\"Chinese: \", zh, encoded_zh)\n",
    "        # print(x)\n",
    "        # print()\n",
    "        # print(\"English: \", en, encoded_en)\n",
    "        # print(y)\n",
    "        # print()\n",
    "        # print(\"with padding:\")\n",
    "        # print(\"x = \", pad_x)\n",
    "        # print(\"y = \", pad_y )\n",
    "        \n",
    "        return  pad_x, pad_y\n"
   ]
  },
  {
   "cell_type": "code",
   "execution_count": 5,
   "id": "bdfdcafd",
   "metadata": {
    "execution": {
     "iopub.execute_input": "2025-04-17T02:47:30.519166Z",
     "iopub.status.busy": "2025-04-17T02:47:30.518803Z",
     "iopub.status.idle": "2025-04-17T02:48:29.208639Z",
     "shell.execute_reply": "2025-04-17T02:48:29.207830Z",
     "shell.execute_reply.started": "2025-04-17T02:47:30.519139Z"
    },
    "trusted": true
   },
   "outputs": [
    {
     "name": "stdout",
     "output_type": "stream",
     "text": [
      "processing line 5000\n",
      "processing line 10000\n",
      "processing line 15000\n",
      "processing line 20000\n",
      "processing line 25000\n",
      "processsing line 26784. Done.\n"
     ]
    },
    {
     "data": {
      "application/vnd.jupyter.widget-view+json": {
       "model_id": "dd765eee254a4b218534bf99c9b89920",
       "version_major": 2,
       "version_minor": 0
      },
      "text/plain": [
       "tokenizer_config.json:   0%|          | 0.00/26.0 [00:00<?, ?B/s]"
      ]
     },
     "metadata": {},
     "output_type": "display_data"
    },
    {
     "data": {
      "application/vnd.jupyter.widget-view+json": {
       "model_id": "dd8b6525ae36426b87d02a2ae884cb6f",
       "version_major": 2,
       "version_minor": 0
      },
      "text/plain": [
       "vocab.json:   0%|          | 0.00/1.04M [00:00<?, ?B/s]"
      ]
     },
     "metadata": {},
     "output_type": "display_data"
    },
    {
     "data": {
      "application/vnd.jupyter.widget-view+json": {
       "model_id": "48d585fd9d5d474dadbc2b2793555d13",
       "version_major": 2,
       "version_minor": 0
      },
      "text/plain": [
       "merges.txt:   0%|          | 0.00/456k [00:00<?, ?B/s]"
      ]
     },
     "metadata": {},
     "output_type": "display_data"
    },
    {
     "data": {
      "application/vnd.jupyter.widget-view+json": {
       "model_id": "ebc4d18d99b24c8588126f17a6151ce2",
       "version_major": 2,
       "version_minor": 0
      },
      "text/plain": [
       "tokenizer.json:   0%|          | 0.00/1.36M [00:00<?, ?B/s]"
      ]
     },
     "metadata": {},
     "output_type": "display_data"
    },
    {
     "data": {
      "application/vnd.jupyter.widget-view+json": {
       "model_id": "2a59d061db2d4f888bd92dde50f1ffba",
       "version_major": 2,
       "version_minor": 0
      },
      "text/plain": [
       "config.json:   0%|          | 0.00/665 [00:00<?, ?B/s]"
      ]
     },
     "metadata": {},
     "output_type": "display_data"
    },
    {
     "name": "stdout",
     "output_type": "stream",
     "text": [
      "processsing line 3125. Done.\n"
     ]
    }
   ],
   "source": [
    "train_dataset = TranslationDataset('train')\n",
    "test_dataset = TranslationDataset('test')\n",
    "# print(len(train_dataset.pairs),len(test_dataset.pairs))"
   ]
  },
  {
   "cell_type": "code",
   "execution_count": 6,
   "id": "04451167",
   "metadata": {
    "execution": {
     "iopub.execute_input": "2025-04-17T02:48:39.525727Z",
     "iopub.status.busy": "2025-04-17T02:48:39.525241Z",
     "iopub.status.idle": "2025-04-17T02:48:39.834224Z",
     "shell.execute_reply": "2025-04-17T02:48:39.833272Z",
     "shell.execute_reply.started": "2025-04-17T02:48:39.525697Z"
    },
    "trusted": true
   },
   "outputs": [
    {
     "name": "stdout",
     "output_type": "stream",
     "text": [
      "50258\n",
      "128\n",
      "number of parameters: 7.24M\n"
     ]
    }
   ],
   "source": [
    "from mingpt.model import GPT\n",
    "\n",
    "print(train_dataset.get_vocab_size())\n",
    "print(train_dataset.get_block_size())\n",
    "\n",
    "model_config = GPT.get_default_config()\n",
    "model_config.model_type = 'gpt-micro'\n",
    "model_config.vocab_size = train_dataset.get_vocab_size()\n",
    "model_config.block_size = train_dataset.get_block_size()\n",
    "model = GPT(model_config)"
   ]
  },
  {
   "cell_type": "code",
   "execution_count": 7,
   "id": "4df0a9c6",
   "metadata": {
    "execution": {
     "iopub.execute_input": "2025-04-17T02:48:43.131774Z",
     "iopub.status.busy": "2025-04-17T02:48:43.131454Z",
     "iopub.status.idle": "2025-04-17T02:48:43.463181Z",
     "shell.execute_reply": "2025-04-17T02:48:43.462486Z",
     "shell.execute_reply.started": "2025-04-17T02:48:43.131748Z"
    },
    "trusted": true
   },
   "outputs": [
    {
     "name": "stdout",
     "output_type": "stream",
     "text": [
      "running on device cuda\n"
     ]
    }
   ],
   "source": [
    "# create a Trainer object\n",
    "from mingpt.trainer import Trainer\n",
    "\n",
    "train_config = Trainer.get_default_config()\n",
    "train_config.learning_rate = 5e-4\n",
    "train_config.max_iters = 3000\n",
    "train_config.num_workers = 0\n",
    "train_config.batch_size = 64\n",
    "train_config.n_layer = 4\n",
    "train_config.weight_decay =0.05\n",
    "trainer = Trainer(train_config, model, train_dataset)"
   ]
  },
  {
   "cell_type": "code",
   "execution_count": 8,
   "id": "c78a0f76",
   "metadata": {
    "execution": {
     "iopub.execute_input": "2025-04-17T02:48:56.216067Z",
     "iopub.status.busy": "2025-04-17T02:48:56.215734Z",
     "iopub.status.idle": "2025-04-17T02:58:33.353723Z",
     "shell.execute_reply": "2025-04-17T02:58:33.353069Z",
     "shell.execute_reply.started": "2025-04-17T02:48:56.216040Z"
    },
    "trusted": true
   },
   "outputs": [
    {
     "name": "stdout",
     "output_type": "stream",
     "text": [
      "iter_dt 0.00ms; iter 0: train loss 10.85928\n",
      "iter_dt 169.70ms; iter 100: train loss 5.54375\n",
      "iter_dt 171.80ms; iter 200: train loss 5.01476\n",
      "iter_dt 177.40ms; iter 300: train loss 4.59358\n",
      "iter_dt 184.06ms; iter 400: train loss 4.32011\n",
      "iter_dt 192.99ms; iter 500: train loss 4.26146\n",
      "iter_dt 197.63ms; iter 600: train loss 4.24192\n",
      "iter_dt 196.24ms; iter 700: train loss 3.90694\n",
      "iter_dt 190.32ms; iter 800: train loss 3.87248\n",
      "iter_dt 190.27ms; iter 900: train loss 3.71157\n",
      "iter_dt 193.48ms; iter 1000: train loss 3.72306\n",
      "iter_dt 193.61ms; iter 1100: train loss 3.45928\n",
      "iter_dt 195.06ms; iter 1200: train loss 3.48277\n",
      "iter_dt 192.01ms; iter 1300: train loss 3.38218\n",
      "iter_dt 192.86ms; iter 1400: train loss 3.40730\n",
      "iter_dt 193.39ms; iter 1500: train loss 3.47313\n",
      "iter_dt 189.83ms; iter 1600: train loss 3.21584\n",
      "iter_dt 195.31ms; iter 1700: train loss 3.44062\n",
      "iter_dt 193.86ms; iter 1800: train loss 3.04424\n",
      "iter_dt 193.68ms; iter 1900: train loss 3.05526\n",
      "iter_dt 194.33ms; iter 2000: train loss 2.86603\n",
      "iter_dt 193.33ms; iter 2100: train loss 3.21793\n",
      "iter_dt 194.17ms; iter 2200: train loss 2.64602\n",
      "iter_dt 194.32ms; iter 2300: train loss 3.10686\n",
      "iter_dt 194.53ms; iter 2400: train loss 2.94280\n",
      "iter_dt 193.34ms; iter 2500: train loss 2.86324\n",
      "iter_dt 193.56ms; iter 2600: train loss 2.52404\n",
      "iter_dt 193.55ms; iter 2700: train loss 2.46873\n",
      "iter_dt 193.52ms; iter 2800: train loss 2.68387\n",
      "iter_dt 192.89ms; iter 2900: train loss 2.50829\n"
     ]
    }
   ],
   "source": [
    "training_losses = []\n",
    "def batch_end_callback(trainer):\n",
    "    if trainer.iter_num % 20 == 0:\n",
    "        training_losses.append(trainer.loss.item())\n",
    "    if trainer.iter_num % 100 == 0:\n",
    "        print(f\"iter_dt {trainer.iter_dt * 1000:.2f}ms; iter {trainer.iter_num}: train loss {trainer.loss.item():.5f}\")\n",
    "trainer.set_callback('on_batch_end', batch_end_callback)\n",
    "\n",
    "trainer.run()"
   ]
  },
  {
   "cell_type": "code",
   "execution_count": 10,
   "id": "5a84d5fa-1cb1-49ad-8eb7-bdb245dfdbbe",
   "metadata": {
    "execution": {
     "iopub.execute_input": "2025-04-17T02:58:45.744452Z",
     "iopub.status.busy": "2025-04-17T02:58:45.744155Z",
     "iopub.status.idle": "2025-04-17T02:58:45.909265Z",
     "shell.execute_reply": "2025-04-17T02:58:45.908474Z",
     "shell.execute_reply.started": "2025-04-17T02:58:45.744431Z"
    },
    "trusted": true
   },
   "outputs": [
    {
     "data": {
      "image/png": "[encoded data removed]",
      "text/plain": [
       "<Figure size 1000x500 with 1 Axes>"
      ]
     },
     "metadata": {},
     "output_type": "display_data"
    }
   ],
   "source": [
    "plt.figure(figsize = (10,5))\n",
    "plt.plot(np.arange(len(training_losses))*20, training_losses)\n",
    "plt.xlabel(\"Iterations\")\n",
    "plt.ylabel(\"Training Loss\")\n",
    "plt.grid()"
   ]
  },
  {
   "cell_type": "markdown",
   "id": "fad86acc-c867-443c-8d66-757ea800bfc4",
   "metadata": {},
   "source": [
    "## Train data generated examples"
   ]
  },
  {
   "cell_type": "code",
   "execution_count": 18,
   "id": "d3fc34c8-ab38-4aa2-bdba-4afc0f85736a",
   "metadata": {
    "execution": {
     "iopub.execute_input": "2025-04-17T03:29:48.134797Z",
     "iopub.status.busy": "2025-04-17T03:29:48.134513Z",
     "iopub.status.idle": "2025-04-17T03:30:08.250705Z",
     "shell.execute_reply": "2025-04-17T03:30:08.249817Z",
     "shell.execute_reply.started": "2025-04-17T03:29:48.134774Z"
    },
    "trusted": true
   },
   "outputs": [
    {
     "name": "stdout",
     "output_type": "stream",
     "text": [
      "Input:  我每天都说英语 \n",
      "Ground truth: i speak english every day\n",
      "Translation: speak english every day\n",
      "\n",
      "Input:  我也哭了 \n",
      "Ground truth: i cried too\n",
      "Translation: crying too\n",
      "\n",
      "Input:  这家工厂生产电炉 \n",
      "Ground truth: this factory manufactures electric stoves\n",
      "Translation: a little boy\n",
      "\n",
      "Input:  他喜欢足球胜过棒球 \n",
      "Ground truth: he prefers football to baseball\n",
      "Translation: like playing baseball\n",
      "\n",
      "Input:  现在楼里没人 \n",
      "Ground truth: theres no one in the building now\n",
      "Translation: isnt in the table\n",
      "\n",
      "Input:  那有点难以置信 \n",
      "Ground truth: thats a little hard to believe\n",
      "Translation: is difficult to believe\n",
      "\n",
      "Input:  海啸来了密切注意啊 \n",
      "Ground truth: a tsunami is coming so please be on the alert\n",
      "Translation: is too difficult to keep his letter\n",
      "\n",
      "Input:  就个人而言我赞同这个计划 \n",
      "Ground truth: i for one am for the plan\n",
      "Translation: and i have a plan to have a plan\n",
      "\n",
      "Input:  这个女孩没有母亲 \n",
      "Ground truth: the girl has no mother\n",
      "Translation: two children\n",
      "\n",
      "Input:  他问我是否很忙 \n",
      "Ground truth: he asked me if i was busy\n",
      "Translation: me a lot of books\n",
      "\n"
     ]
    }
   ],
   "source": [
    "loader = DataLoader(train_dataset, batch_size=1, num_workers=0, drop_last=False)\n",
    "tmp_train = {}\n",
    "\n",
    "for b,(x, y) in enumerate(loader):\n",
    "    if b in range(1007, 1017, 1):\n",
    "        x = x.to(trainer.device)\n",
    "        y = y.to(trainer.device)\n",
    "        # print(x,y)\n",
    "        sep_id = train_dataset.tokenizer.convert_tokens_to_ids(\"<sep>\")\n",
    "        sep_idx = x.tolist()[0].index(sep_id)\n",
    "        inp = x[:,:sep_idx]\n",
    "        sol_can = model.generate(inp, 128, do_sample=False)\n",
    "        tokens = y.cpu().tolist()[0]\n",
    "        #ground truth\n",
    "        gt = []\n",
    "        for i in tokens:\n",
    "            if i != -1:\n",
    "                gt.append(i)\n",
    "        gt_sentence = train_dataset.tokenizer.decode(gt, skip_special_tokens=True)\n",
    "        \n",
    "        with torch.no_grad():\n",
    "            generate_sol = sol_can.cpu().tolist()[0]    \n",
    "        decoded_text = train_dataset.tokenizer.decode(generate_sol, skip_special_tokens=True)\n",
    "        for i in range(len(decoded_text)): \n",
    "            if decoded_text[i] in train_dataset.vocab:\n",
    "                break\n",
    "        zh = decoded_text[:i]\n",
    "        translation = decoded_text[i:]\n",
    "\n",
    "        print(f\"Input:  {zh}\")\n",
    "        print(f\"Ground truth: {gt_sentence}\")\n",
    "        print(f\"Translation: {translation}\")\n",
    "        print()"
   ]
  },
  {
   "cell_type": "markdown",
   "id": "1d37ea1f",
   "metadata": {},
   "source": [
    "## Test data generated example"
   ]
  },
  {
   "cell_type": "code",
   "execution_count": 11,
   "id": "25d54c0f",
   "metadata": {
    "execution": {
     "iopub.execute_input": "2025-04-17T02:59:12.116685Z",
     "iopub.status.busy": "2025-04-17T02:59:12.116395Z",
     "iopub.status.idle": "2025-04-17T03:20:23.208462Z",
     "shell.execute_reply": "2025-04-17T03:20:23.207464Z",
     "shell.execute_reply.started": "2025-04-17T02:59:12.116663Z"
    },
    "trusted": true
   },
   "outputs": [
    {
     "name": "stdout",
     "output_type": "stream",
     "text": [
      "Input:  医生告诉我我应该停止吸烟 \n",
      "Ground truth: the doctor told me i had to stop smoking\n",
      "Translation: of the doctor told me to be more\n",
      "\n",
      "Input:  请关上门\n",
      "Ground truth: please close the door\n",
      "Translation: please turn on the door\n",
      "\n",
      "Input:  你想吃这个吗 \n",
      "Ground truth: do you want to eat this\n",
      "Translation: eat this letter you want to\n",
      "\n",
      "Input:  既然母亲病了我就待在家里没去上学 \n",
      "Ground truth: since my mother was sick i stayed home from school\n",
      "Translation: home in the house in the house wasnt in the house morning\n",
      "\n",
      "Input:  他及时赴约了 \n",
      "Ground truth: he was in time for the appointment\n",
      "Translation: out of the train\n",
      "\n",
      "Input:  这样做的话什么都不会改变的 \n",
      "Ground truth: it wont change anything\n",
      "Translation: nothing to do with anything\n",
      "\n",
      "Input:  雨让我们没有办法去散步 \n",
      "Ground truth: rain prevented us from taking a walk\n",
      "Translation: to go to the party\n",
      "\n",
      "Input:  我什么都不知道 \n",
      "Ground truth: i dont know anything\n",
      "Translation: i know anything\n",
      "\n",
      "Input:  注意小偷 \n",
      "Ground truth: beware of thieves\n",
      "Translation: swim like\n",
      "\n",
      "Input:  他十分钟前离开了 \n",
      "Ground truth: he left ten minutes ago\n",
      "Translation: out of the car ago\n",
      "\n"
     ]
    }
   ],
   "source": [
    "model.eval()\n",
    "loader = DataLoader(test_dataset, batch_size=1, num_workers=0, drop_last=False)\n",
    "\n",
    "output = {}\n",
    "\n",
    "for b,(x, y) in enumerate(loader):\n",
    "\n",
    "    x = x.to(trainer.device)\n",
    "    y = y.to(trainer.device)\n",
    "    # print(x,y)\n",
    "    sep_id = train_dataset.tokenizer.convert_tokens_to_ids(\"<sep>\")\n",
    "    sep_idx = x.tolist()[0].index(sep_id)\n",
    "    inp = x[:,:sep_idx]\n",
    "    # print(inp)\n",
    "    sol_can = model.generate(inp, 128, do_sample=False)\n",
    "\n",
    "    tokens = y.cpu().tolist()[0]\n",
    "    #ground truth\n",
    "    gt = []\n",
    "    for i in tokens:\n",
    "        if i != -1:\n",
    "            gt.append(i)\n",
    "    gt_sentence = test_dataset.tokenizer.decode(gt, skip_special_tokens=True)\n",
    "    \n",
    "    with torch.no_grad():\n",
    "        generate_sol = sol_can.cpu().tolist()[0]    \n",
    "    decoded_text = test_dataset.tokenizer.decode(generate_sol, skip_special_tokens=True)\n",
    "    for i in range(len(decoded_text)): \n",
    "        if decoded_text[i] in train_dataset.vocab:\n",
    "            break\n",
    "    zh = decoded_text[:i]\n",
    "    translation = decoded_text[i:]\n",
    "\n",
    "    output[b] = {\"input\": zh,\n",
    "                 \"ground_truth\": gt_sentence,\n",
    "                 \"translation\": translation}\n",
    "\n",
    "    \n",
    "    if (b+1) % 300 == 0:\n",
    "        print(f\"Input:  {zh}\")\n",
    "        print(f\"Ground truth: {gt_sentence}\")\n",
    "        print(f\"Translation: {translation}\")\n",
    "        print()\n"
   ]
  },
  {
   "cell_type": "code",
   "execution_count": 12,
   "id": "e3d5251a-06a4-4ad3-8b54-e2965c096f6d",
   "metadata": {
    "execution": {
     "iopub.execute_input": "2025-04-17T03:20:55.038796Z",
     "iopub.status.busy": "2025-04-17T03:20:55.038144Z",
     "iopub.status.idle": "2025-04-17T03:20:55.067552Z",
     "shell.execute_reply": "2025-04-17T03:20:55.066870Z",
     "shell.execute_reply.started": "2025-04-17T03:20:55.038763Z"
    },
    "trusted": true
   },
   "outputs": [],
   "source": [
    "with open(\"generate_output.json\", \"w\",encoding='utf-8') as f:\n",
    "    json.dump(output, f, ensure_ascii=False, indent=4)\n",
    "    "
   ]
  },
  {
   "cell_type": "code",
   "execution_count": 22,
   "id": "31ed5e3d-c809-48e1-badc-d5ed03d2e516",
   "metadata": {
    "trusted": true
   },
   "outputs": [
    {
     "name": "stdout",
     "output_type": "stream",
     "text": [
      "              Input                 Ground truth                Translation  \n",
      "    我正在做我的作业          im doing my homework             do my homework\n",
      "我收到了朋友的一封信  i got a letter from a friend    a letter from my friend\n",
      "        你会弹吉他吗       can you play the guitar be able to play the guitar\n",
      "      我是一名大学生        i am a college student       is a student student\n",
      "        他是医生来的                he is a doctor                is a doctor\n",
      "\n",
      "                  Input                      Ground truth                           Translation  \n",
      "            他比我高两寸  he is two inches taller than i am                   is taller than i am\n",
      "              您能帮我吗                    can you help me                               help me\n",
      "我舅母做了一条新裙子给我    my aunt made a new skirt for me                        me a new skirt\n",
      "  我会在星期一给你打电话             ill call you on monday will call you up at the telephone you\n",
      "          我爸爸在花园里           my fathers in the garden                    in the park father\n",
      "              你愿意来吗             would you like to come                      you want to come\n"
     ]
    }
   ],
   "source": [
    "import json\n",
    "import pandas as pd\n",
    "\n",
    "def read_output(lst, data):\n",
    "    tmp = []\n",
    "    for i in lst:\n",
    "        tmp.append(list(data[str(i)].values()))\n",
    "    df = pd.DataFrame(tmp, columns=[\"Input  \", \"Ground truth  \", \"Translation  \"])\n",
    "    with pd.option_context('display.max_colwidth', 40, 'display.unicode.east_asian_width', True):\n",
    "        print(df.to_string(index=False, justify='right'))\n",
    "    # print(df)\n",
    "\n",
    "with open (\"generate_output.json\", \"r\",encoding='utf-8') as f:\n",
    "    data = json.load(f)\n",
    "\n",
    "# manually go over the first half outputs\n",
    "good = [226, 804, 856,1044,1508]\n",
    "moderate = [245, 501,1374, 1490, 1543, 1568]\n",
    "read_output(good, data)\n",
    "print()\n",
    "read_output(moderate, data)"
   ]
  },
  {
   "cell_type": "code",
   "execution_count": null,
   "id": "f34f1f45",
   "metadata": {},
   "outputs": [],
   "source": []
  }
 ],
 "metadata": {
  "kaggle": {
   "accelerator": "nvidiaTeslaT4",
   "dataSources": [
    {
     "datasetId": 7075595,
     "sourceId": 11312627,
     "sourceType": "datasetVersion"
    }
   ],
   "dockerImageVersionId": 30918,
   "isGpuEnabled": true,
   "isInternetEnabled": true,
   "language": "python",
   "sourceType": "notebook"
  },
  "kernelspec": {
   "display_name": "base",
   "language": "python",
   "name": "python3"
  },
  "language_info": {
   "codemirror_mode": {
    "name": "ipython",
    "version": 3
   },
   "file_extension": ".py",
   "mimetype": "text/x-python",
   "name": "python",
   "nbconvert_exporter": "python",
   "pygments_lexer": "ipython3",
   "version": "3.9.13"
  }
 },
 "nbformat": 4,
 "nbformat_minor": 5
}
