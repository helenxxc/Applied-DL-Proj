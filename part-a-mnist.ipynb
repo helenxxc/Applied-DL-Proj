{
 "cells": [
  {
   "cell_type": "markdown",
   "metadata": {
    "id": "4SbG1HZ_I3JN"
   },
   "source": [
    "# Assignment 1 - Part B\n"
   ]
  },
  {
   "cell_type": "code",
   "execution_count": 1,
   "metadata": {
    "execution": {
     "iopub.execute_input": "2025-03-14T13:08:30.092509Z",
     "iopub.status.busy": "2025-03-14T13:08:30.092141Z",
     "iopub.status.idle": "2025-03-14T13:08:32.656082Z",
     "shell.execute_reply": "2025-03-14T13:08:32.655360Z",
     "shell.execute_reply.started": "2025-03-14T13:08:30.092477Z"
    },
    "id": "1UNul6H5I3Jg",
    "trusted": true
   },
   "outputs": [],
   "source": [
    "# torch and torchvision provide some very handy utilities for dataset loading\n",
    "from torch.utils.data import DataLoader\n",
    "import torchvision.datasets as tv_datasets\n",
    "import torchvision.transforms as tv_transforms\n",
    "import torch\n",
    "import torch.nn as nn\n",
    "import torch.optim as optim"
   ]
  },
  {
   "cell_type": "code",
   "execution_count": 2,
   "metadata": {
    "execution": {
     "iopub.execute_input": "2025-03-14T13:08:32.657324Z",
     "iopub.status.busy": "2025-03-14T13:08:32.657002Z",
     "iopub.status.idle": "2025-03-14T13:08:32.661092Z",
     "shell.execute_reply": "2025-03-14T13:08:32.660109Z",
     "shell.execute_reply.started": "2025-03-14T13:08:32.657302Z"
    },
    "id": "aW477D5fI3Jh",
    "trusted": true
   },
   "outputs": [],
   "source": [
    "# some experimental setup\n",
    "num_epochs = 2\n",
    "batch_size = 32\n",
    "num_workers = 2\n",
    "print_every = 300"
   ]
  },
  {
   "cell_type": "code",
   "execution_count": 3,
   "metadata": {
    "colab": {
     "base_uri": "https://localhost:8080/"
    },
    "execution": {
     "iopub.execute_input": "2025-03-14T13:08:32.662705Z",
     "iopub.status.busy": "2025-03-14T13:08:32.662400Z",
     "iopub.status.idle": "2025-03-14T13:08:32.775084Z",
     "shell.execute_reply": "2025-03-14T13:08:32.774325Z",
     "shell.execute_reply.started": "2025-03-14T13:08:32.662672Z"
    },
    "id": "7s1k5fQKI3Jh",
    "outputId": "9872dc9d-40ce-4bc3-b21e-dde34ea0a688",
    "trusted": true
   },
   "outputs": [],
   "source": [
    "# prepare datasets\n",
    "dataset, loader = {}, {}\n",
    "for data_type in (\"train\", \"test\"):\n",
    "    is_train = data_type==\"train\"\n",
    "    dataset[data_type] = tv_datasets.MNIST(\n",
    "        root=\"./data\", train=is_train, download=True,\n",
    "        transform=tv_transforms.Compose([ # preprocessing pipeline for input images\n",
    "            tv_transforms.ToTensor(),\n",
    "            tv_transforms.Normalize((0.1307,), (0.3081,)),\n",
    "    ]))\n",
    "    loader[data_type] = DataLoader(\n",
    "        dataset[data_type], batch_size=batch_size, shuffle=is_train, num_workers=num_workers,\n",
    "    )\n"
   ]
  },
  {
   "cell_type": "code",
   "execution_count": null,
   "metadata": {
    "colab": {
     "base_uri": "https://localhost:8080/"
    },
    "execution": {
     "iopub.execute_input": "2025-03-14T13:15:10.463283Z",
     "iopub.status.busy": "2025-03-14T13:15:10.462982Z",
     "iopub.status.idle": "2025-03-14T13:15:10.470320Z",
     "shell.execute_reply": "2025-03-14T13:15:10.469459Z",
     "shell.execute_reply.started": "2025-03-14T13:15:10.463261Z"
    },
    "id": "4-qoKIwfI3Ji",
    "outputId": "26b564d3-6ed3-4d0f-d2c0-6ece5db201eb",
    "trusted": true
   },
   "outputs": [],
   "source": [
    "def training(net):\n",
    "    optim_adam = \"SGD\"\n",
    "    adam_kwargs = dict(\n",
    "        lr=1e-2,\n",
    "        momentum = 0.9,\n",
    "        weight_decay=1e-5,\n",
    "    )\n",
    "    \n",
    "    for layer in net.children():\n",
    "        if hasattr(layer, 'reset_parameters'):\n",
    "            layer.reset_parameters()\n",
    "    \n",
    "    device = torch.device(\"cuda:0\" if torch.cuda.is_available() else \"cpu\")\n",
    "    net.to(device)\n",
    "    optimizer = getattr(optim, optim_adam)(net.parameters(), **adam_kwargs)\n",
    "    \n",
    "    criterion = nn.CrossEntropyLoss()\n",
    "    train_losses = []\n",
    "    train_accuracies = []\n",
    "    \n",
    "    # training loop\n",
    "    net.train()\n",
    "    for epoch in range(num_epochs):\n",
    "    \n",
    "        running_loss = 0.0\n",
    "        correct_train, total_train = 0,0\n",
    "        for i, (img, target) in enumerate(loader[\"train\"]):\n",
    "            img, target = img.to(device), target.to(device)\n",
    "    \n",
    "            pred = net(img)\n",
    "            loss = criterion(pred, target)\n",
    "    \n",
    "            optimizer.zero_grad()\n",
    "            loss.backward()\n",
    "            optimizer.step()\n",
    "    \n",
    "            # print statistics\n",
    "            running_loss += loss.item()\n",
    "            total_train += len(target)\n",
    "            correct_train += (torch.argmax(pred, dim=1) == target).sum().item()\n",
    "            if i % print_every == print_every - 1:\n",
    "                print(f\"[epoch={epoch + 1:3d}, iter={i + 1:5d}] loss: {running_loss / print_every:.3f}\")\n",
    "                running_loss = 0.0\n",
    "        train_losses.append(running_loss / len(loader[\"train\"]))\n",
    "        train_accuracies.append(100 * correct_train / total_train)\n",
    "    \n",
    "    print(\"Finished Training\")\n",
    "    return net\n",
    "\n"
   ]
  },
  {
   "cell_type": "markdown",
   "metadata": {
    "id": "Swu1JezoI3Jk"
   },
   "source": [
    "## Evaluate"
   ]
  },
  {
   "cell_type": "code",
   "execution_count": null,
   "metadata": {
    "execution": {
     "iopub.execute_input": "2025-03-14T13:14:40.224374Z",
     "iopub.status.busy": "2025-03-14T13:14:40.223868Z",
     "iopub.status.idle": "2025-03-14T13:14:40.316416Z",
     "shell.execute_reply": "2025-03-14T13:14:40.315773Z",
     "shell.execute_reply.started": "2025-03-14T13:14:40.224329Z"
    },
    "id": "fUxpX6hmI3Jf",
    "trusted": true
   },
   "outputs": [],
   "source": [
    "## same net as the one in trained cifar-10\n",
    "net = nn.Sequential(\n",
    "    nn.Conv2d(1, 128, 3, padding=1), nn.BatchNorm2d(128), nn.ReLU(inplace=True), nn.MaxPool2d(2), nn.Dropout(0.3),\n",
    "    nn.Conv2d(128, 256, 3, padding=1), nn.BatchNorm2d(256), nn.ReLU(inplace=True), nn.MaxPool2d(2), nn.Dropout(0.3),\n",
    "    nn.Conv2d(256, 512, 3, padding=1), nn.BatchNorm2d(512), nn.ReLU(inplace=True),\n",
    "    nn.Conv2d(512, 512, 3, padding=1), nn.BatchNorm2d(512), nn.ReLU(inplace=True),nn.MaxPool2d(2), nn.Dropout(0.4),\n",
    "    nn.Flatten(),\n",
    "    nn.Linear(512 * 3 * 3, 512), nn.BatchNorm1d(512), nn.ReLU(inplace=True), nn.Dropout(0.5),\n",
    "    nn.Linear(512, 256), nn.BatchNorm1d(256), nn.ReLU(inplace=True), nn.Dropout(0.5),\n",
    "    nn.Linear(256, 10),\n",
    ")\n"
   ]
  },
  {
   "cell_type": "code",
   "execution_count": 9,
   "metadata": {
    "colab": {
     "base_uri": "https://localhost:8080/"
    },
    "execution": {
     "iopub.execute_input": "2025-03-14T13:14:47.012052Z",
     "iopub.status.busy": "2025-03-14T13:14:47.011705Z",
     "iopub.status.idle": "2025-03-14T13:14:47.017418Z",
     "shell.execute_reply": "2025-03-14T13:14:47.016638Z",
     "shell.execute_reply.started": "2025-03-14T13:14:47.012025Z"
    },
    "id": "dYcnHVfTI3Jk",
    "outputId": "95871a93-2395-41a3-949b-a49e14da7a15",
    "trusted": true
   },
   "outputs": [],
   "source": [
    "def evaluate(net):\n",
    "    net.eval()\n",
    "    y_true, y_pred = [], []\n",
    "    correct, total = 0, 0\n",
    "    with torch.no_grad():\n",
    "        for img, target in loader[\"test\"]:\n",
    "            img, target = img.to(device), target.to(device)\n",
    "    \n",
    "            pred = net(img)\n",
    "            y_true.extend(target.cpu().numpy())\n",
    "            y_pred.extend(torch.argmax(pred, dim=1).cpu().numpy())\n",
    "            total += len(target)\n",
    "            correct += (torch.argmax(pred, dim=1) == target).sum().item()\n",
    "    \n",
    "    print(f\"Accuracy of the network on the {total} test images: {100 * correct / total:.2f}%\")\n"
   ]
  },
  {
   "cell_type": "code",
   "execution_count": 11,
   "metadata": {
    "execution": {
     "iopub.execute_input": "2025-03-14T13:15:41.949456Z",
     "iopub.status.busy": "2025-03-14T13:15:41.949122Z",
     "iopub.status.idle": "2025-03-14T13:16:08.502223Z",
     "shell.execute_reply": "2025-03-14T13:16:08.501053Z",
     "shell.execute_reply.started": "2025-03-14T13:15:41.949409Z"
    },
    "id": "oM1xVXNOZ-OJ",
    "trusted": true
   },
   "outputs": [
    {
     "name": "stdout",
     "output_type": "stream",
     "text": [
      "[epoch=  1, iter=  300] loss: 0.567\n",
      "[epoch=  1, iter=  600] loss: 0.231\n",
      "[epoch=  1, iter=  900] loss: 0.176\n",
      "[epoch=  1, iter= 1200] loss: 0.138\n",
      "[epoch=  1, iter= 1500] loss: 0.141\n",
      "[epoch=  1, iter= 1800] loss: 0.125\n",
      "[epoch=  2, iter=  300] loss: 0.117\n",
      "[epoch=  2, iter=  600] loss: 0.116\n",
      "[epoch=  2, iter=  900] loss: 0.106\n",
      "[epoch=  2, iter= 1200] loss: 0.100\n",
      "[epoch=  2, iter= 1500] loss: 0.095\n",
      "[epoch=  2, iter= 1800] loss: 0.094\n",
      "Finished Training\n",
      "Accuracy of the network on the 10000 test images: 99.22%\n"
     ]
    }
   ],
   "source": [
    "trained_net = training(net)\n",
    "evaluate(trained_net)"
   ]
  },
  {
   "cell_type": "code",
   "execution_count": null,
   "metadata": {
    "trusted": true
   },
   "outputs": [],
   "source": []
  }
 ],
 "metadata": {
  "accelerator": "GPU",
  "colab": {
   "gpuType": "T4",
   "provenance": []
  },
  "kaggle": {
   "accelerator": "nvidiaTeslaT4",
   "dataSources": [],
   "dockerImageVersionId": 30919,
   "isGpuEnabled": true,
   "isInternetEnabled": true,
   "language": "python",
   "sourceType": "notebook"
  },
  "kernelspec": {
   "display_name": "Python 3",
   "language": "python",
   "name": "python3"
  },
  "language_info": {
   "codemirror_mode": {
    "name": "ipython",
    "version": 3
   },
   "file_extension": ".py",
   "mimetype": "text/x-python",
   "name": "python",
   "nbconvert_exporter": "python",
   "pygments_lexer": "ipython3",
   "version": "3.10.12"
  }
 },
 "nbformat": 4,
 "nbformat_minor": 4
}
