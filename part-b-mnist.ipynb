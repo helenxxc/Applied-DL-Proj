{
 "cells": [
  {
   "cell_type": "markdown",
   "metadata": {
    "id": "9R1O-5Hv8EbY"
   },
   "source": [
    "# Assignment 1 - Code Example - Part B\n",
    "\n",
    "This achieves an accuracy of 93.26% on test set."
   ]
  },
  {
   "cell_type": "code",
   "execution_count": 1,
   "metadata": {
    "execution": {
     "iopub.execute_input": "2025-03-16T06:10:32.176420Z",
     "iopub.status.busy": "2025-03-16T06:10:32.176111Z",
     "iopub.status.idle": "2025-03-16T06:10:35.192755Z",
     "shell.execute_reply": "2025-03-16T06:10:35.192054Z",
     "shell.execute_reply.started": "2025-03-16T06:10:32.176394Z"
    },
    "id": "phshytRW8Eba",
    "trusted": true
   },
   "outputs": [],
   "source": [
    "# provide some basic operators like matrix multiplication\n",
    "import cupy as cp\n",
    "\n",
    "# torch and torchvision provide some very handy utilities for dataset loading\n",
    "from torch.utils.data import DataLoader\n",
    "import torchvision.datasets as tv_datasets\n",
    "import torchvision.transforms as tv_transforms"
   ]
  },
  {
   "cell_type": "markdown",
   "metadata": {
    "id": "z7E3v9WP8Ebb"
   },
   "source": [
    "## Some Useful Classes"
   ]
  },
  {
   "cell_type": "code",
   "execution_count": 2,
   "metadata": {
    "execution": {
     "iopub.execute_input": "2025-03-16T06:10:35.194345Z",
     "iopub.status.busy": "2025-03-16T06:10:35.193938Z",
     "iopub.status.idle": "2025-03-16T06:10:35.201625Z",
     "shell.execute_reply": "2025-03-16T06:10:35.200785Z",
     "shell.execute_reply.started": "2025-03-16T06:10:35.194312Z"
    },
    "id": "iYjUfYE28Ebc",
    "trusted": true
   },
   "outputs": [],
   "source": [
    "# base class\n",
    "class Module:\n",
    "    def __init__(self):\n",
    "        self.training = True\n",
    "\n",
    "    @property\n",
    "    def params(self): # trainable parameters\n",
    "        return []\n",
    "\n",
    "    def __call__(self, *args, **kwargs):\n",
    "        return self.forward( *args, **kwargs)\n",
    "    \n",
    "    def train(self):\n",
    "        self.training = True\n",
    "        \n",
    "\n",
    "    def eval(self):\n",
    "        self.training = False\n",
    "\n",
    "\n",
    "# sequential module\n",
    "class Sequential(Module, list):\n",
    "    def __init__(self, *module_lst):\n",
    "        super().__init__()\n",
    "        self.modules = list(module_lst)\n",
    "\n",
    "    @property\n",
    "    def params(self):\n",
    "        return sum([m.params for m in self], []) # concat all params\n",
    "\n",
    "    def train(self):\n",
    "        self.training = True\n",
    "        for module in self.modules:\n",
    "            module.train()  \n",
    "\n",
    "    def eval(self):\n",
    "        self.training = False\n",
    "        for module in self.modules:\n",
    "            module.eval()  \n",
    "\n",
    "    def forward(self, x):\n",
    "        y = x\n",
    "        for module in self.modules:\n",
    "            y = module(y)\n",
    "        return y\n",
    "\n",
    "    def backward(self, dy):\n",
    "        dx = dy\n",
    "        for module in self.modules[::-1]:\n",
    "            dx = module.backward(dx)\n",
    "        return dx"
   ]
  },
  {
   "cell_type": "markdown",
   "metadata": {
    "id": "PcBxyVWU8Ebc"
   },
   "source": [
    "## Activative function: Softplus, Sigmoid, LeakyReLU, SELU\n",
    "\n",
    "This implements the [Softplus](https://pytorch.org/docs/stable/generated/torch.nn.Softplus.html) function.\n",
    "\n",
    "$y = \\frac{1}{\\beta} \\ln(1+e^{\\beta x})$\n",
    "\n",
    "$y' = \\frac{1}{1+e^{-\\beta x}}$\n",
    "\n",
    "Default: $\\beta=1$\n",
    "\n",
    "$e^{\\beta x}$ might be too large and unstable; so we use linear function to approximate it when $\\beta x$ is above the threshold $20$."
   ]
  },
  {
   "cell_type": "code",
   "execution_count": 3,
   "metadata": {
    "execution": {
     "iopub.execute_input": "2025-03-16T06:10:35.203133Z",
     "iopub.status.busy": "2025-03-16T06:10:35.202886Z",
     "iopub.status.idle": "2025-03-16T06:10:35.231449Z",
     "shell.execute_reply": "2025-03-16T06:10:35.230825Z",
     "shell.execute_reply.started": "2025-03-16T06:10:35.203113Z"
    },
    "id": "n1N06y9d8Ebd",
    "trusted": true
   },
   "outputs": [],
   "source": [
    "class Softplus(Module):\n",
    "    def __init__(self, beta=1.0, threshold=20.0):\n",
    "        assert beta > 0 and threshold > 0\n",
    "        self.beta = beta\n",
    "        self.threshold = threshold\n",
    "\n",
    "    def forward(self, x):\n",
    "        self.beta_x = self.beta * x # save the input for backward use\n",
    "        y = cp.log(1 + cp.exp(self.beta_x)) / self.beta\n",
    "        y_relu = cp.where(x > 0, x, 0)\n",
    "        return cp.where(x < self.threshold, y, y_relu)\n",
    "\n",
    "    def backward(self, dy):\n",
    "        grad = 1 / (1 + cp.exp(-self.beta_x))\n",
    "        grad_relu = cp.where(self.beta_x > 0, 1, 0)\n",
    "        return dy * cp.where(self.beta_x < self.threshold, grad, grad_relu)"
   ]
  },
  {
   "cell_type": "code",
   "execution_count": 4,
   "metadata": {
    "execution": {
     "iopub.execute_input": "2025-03-16T06:10:35.232992Z",
     "iopub.status.busy": "2025-03-16T06:10:35.232758Z",
     "iopub.status.idle": "2025-03-16T06:10:35.250695Z",
     "shell.execute_reply": "2025-03-16T06:10:35.250077Z",
     "shell.execute_reply.started": "2025-03-16T06:10:35.232960Z"
    },
    "id": "LHyucnNp8Ebd",
    "trusted": true
   },
   "outputs": [],
   "source": [
    "class Sigmoid(Module):\n",
    "    def forward(self, x):\n",
    "        self.y = 1/ (1 + cp.exp(-x))\n",
    "        return self.y\n",
    "\n",
    "    def backward(self, dy):\n",
    "        return dy * self.y * (1-self.y)\n",
    "\n",
    "class LeakyReLU(Module):\n",
    "    def __init__(self, neg_slope = 1e-2): ## neg_slope=0 equivalent to ReLU\n",
    "        self.neg_slope = neg_slope\n",
    "\n",
    "    def forward(self, x):\n",
    "        self.x = x\n",
    "        y = cp.where(x > 0, x, self.neg_slope * x)\n",
    "        return y\n",
    "\n",
    "    def backward(self, dy):\n",
    "        return dy * cp.where(self.x>0, 1, self.neg_slope)\n",
    "\n",
    "class SELU(Module):\n",
    "    def __init__(self):\n",
    "        self.alpha = 1.6732632423543772848170429916717\n",
    "        self.scale = 1.0507009873554804934193349852946\n",
    "\n",
    "    def forward(self,x):\n",
    "        self.x = x\n",
    "        return self.scale * cp.where(x>0, x, self.alpha * (cp.exp(x)-1))\n",
    "\n",
    "    def backward(self,dy):\n",
    "        return dy * self.scale * cp.where(self.x > 0, 1, self.alpha * cp.exp(self.x))"
   ]
  },
  {
   "cell_type": "markdown",
   "metadata": {
    "id": "8aHqeOX38Ebe"
   },
   "source": [
    "## LinearNoBias & Linear, Conv2d\n",
    "\n",
    "This implements the [Linear](https://pytorch.org/docs/stable/generated/torch.nn.Linear.html) layer but without the bias term.\n",
    "\n",
    "$y = x W^T$\n",
    "\n",
    "$dy/dx = W$\n",
    "\n",
    "$dy/dW = x$"
   ]
  },
  {
   "cell_type": "code",
   "execution_count": 5,
   "metadata": {
    "execution": {
     "iopub.execute_input": "2025-03-16T06:10:35.251675Z",
     "iopub.status.busy": "2025-03-16T06:10:35.251466Z",
     "iopub.status.idle": "2025-03-16T06:10:35.272506Z",
     "shell.execute_reply": "2025-03-16T06:10:35.271907Z",
     "shell.execute_reply.started": "2025-03-16T06:10:35.251656Z"
    },
    "id": "x8nErs368Ebe",
    "trusted": true
   },
   "outputs": [],
   "source": [
    "class LinearNoBias(Module):\n",
    "    def __init__(self, in_features, out_features):\n",
    "        self.weight = (cp.random.rand(out_features, in_features) * 2 - 1) / in_features ** 0.5\n",
    "        self.weight_grad = cp.zeros_like(self.weight)\n",
    "\n",
    "    @property\n",
    "    def params(self):\n",
    "        return [dict(val=self.weight, grad=self.weight_grad)]\n",
    "\n",
    "    def forward(self, x):\n",
    "        self.x = x\n",
    "        # print(f\"x.shape: {x.shape}, self.weight: {self.weight.shape}\")\n",
    "        return x @ self.weight.T\n",
    "\n",
    "    def backward(self, dy):\n",
    "        self.weight_grad[:] = dy.T @ self.x\n",
    "        return dy @ self.weight\n"
   ]
  },
  {
   "cell_type": "code",
   "execution_count": 6,
   "metadata": {
    "execution": {
     "iopub.execute_input": "2025-03-16T06:10:35.273427Z",
     "iopub.status.busy": "2025-03-16T06:10:35.273232Z",
     "iopub.status.idle": "2025-03-16T06:10:35.291699Z",
     "shell.execute_reply": "2025-03-16T06:10:35.291124Z",
     "shell.execute_reply.started": "2025-03-16T06:10:35.273409Z"
    },
    "id": "-mUyX0HX8Ebf",
    "trusted": true
   },
   "outputs": [],
   "source": [
    "class Linear(Module):  ## y = xWT + b\n",
    "    def __init__(self, in_features, out_features, bias = True):\n",
    "        self.weight = (cp.random.rand(out_features, in_features) * 2 - 1) / in_features ** 0.5\n",
    "        self.w_grad = cp.zeros_like(self.weight)\n",
    "        self.bias = cp.random.randn(out_features) if bias else None\n",
    "        self.b_grad = cp.zeros_like(self.bias) if bias else None\n",
    "\n",
    "    @property\n",
    "    def params(self):\n",
    "        para = [dict(val=self.weight, grad=self.w_grad)]\n",
    "        if self.bias is not None:\n",
    "            para.append(dict(val=self.bias, grad=self.b_grad))\n",
    "        return para\n",
    "\n",
    "    def forward(self, x):\n",
    "        self.x = x\n",
    "        # print(f\"Linear: x.shape: {x.shape}, self.weight: {self.weight.shape}\")\n",
    "        y = x @ self.weight.T + (self.bias if self.bias is not None else 0)\n",
    "        return y\n",
    "\n",
    "    def backward(self, dy):\n",
    "        self.w_grad[:] = dy.T @ self.x\n",
    "        if self.bias is not None:\n",
    "            self.b_grad[:] = cp.sum(dy, axis=0)\n",
    "        return dy @ self.weight"
   ]
  },
  {
   "cell_type": "code",
   "execution_count": null,
   "metadata": {
    "execution": {
     "iopub.execute_input": "2025-03-16T06:10:35.292597Z",
     "iopub.status.busy": "2025-03-16T06:10:35.292383Z",
     "iopub.status.idle": "2025-03-16T06:10:35.322855Z",
     "shell.execute_reply": "2025-03-16T06:10:35.322306Z",
     "shell.execute_reply.started": "2025-03-16T06:10:35.292577Z"
    },
    "id": "ca3uE8dg8Ebf",
    "trusted": true
   },
   "outputs": [],
   "source": [
    "class Conv2d(Module):\n",
    "    def __init__(self, in_channels, out_channels, kernel_size, stride = 1, padding = 0, bias = True):\n",
    "        self.in_channels = in_channels\n",
    "        self.out_channels = out_channels\n",
    "        self.kernel_size = kernel_size\n",
    "        self.stride = stride\n",
    "        self.padding = padding\n",
    "\n",
    "        self.weight = cp.random.randn(out_channels, in_channels, kernel_size, kernel_size) / cp.sqrt(in_channels*kernel_size*kernel_size)\n",
    "        self.w_grad = cp.zeros_like(self.weight)\n",
    "        self.bias = cp.zeros(out_channels) if bias else None\n",
    "        self.b_grad = cp.zeros_like(self.bias) if bias else None\n",
    "\n",
    "    @property\n",
    "    def params(self):\n",
    "        para = [dict(val=self.weight, grad=self.w_grad)]\n",
    "        if self.bias is not None:\n",
    "            para.append(dict(val=self.bias, grad=self.b_grad))\n",
    "        return para\n",
    "\n",
    "    def forward(self, x):\n",
    "        ## add padding to fully recover my net setting ：padding=1\n",
    "        # print(f\"conv2d: x.shape:{x.shape}.\", end = \"   \")\n",
    "        if self.padding > 0:\n",
    "            padding = ((0, 0), (0, 0), (self.padding, self.padding), (self.padding, self.padding))\n",
    "            x = cp.pad(x, padding, mode='constant')\n",
    "        #   self.x = cp.pad(x, ((0, 0), (0, 0), (self.padding, self.padding), (self.padding, self.padding)), mode='constant')\n",
    "        self.x = x\n",
    "        # print(f\" after padding:x.shape:{self.x.shape}.\", end = \"   \")\n",
    "        N_in, C_in, H_in, W_in = self.x.shape\n",
    "\n",
    "        H_out = (H_in - self.kernel_size)//self.stride + 1\n",
    "        W_out = (W_in - self.kernel_size)//self.stride + 1\n",
    "\n",
    "        y = cp.zeros((N_in, self.out_channels, H_out, W_out))\n",
    "\n",
    "        for n in range(N_in):\n",
    "            for oc in range(self.out_channels):\n",
    "                for h in range(H_out):\n",
    "                    for w in range(W_out):\n",
    "                        from_h = h * self.stride\n",
    "                        from_w = w * self.stride\n",
    "                        y[n,oc,h,w] = cp.sum(self.x[n,:, from_h:from_h+self.kernel_size, from_w:from_w+self.kernel_size] * self.weight[oc])     ## compute conv window iteratively\n",
    "                        if self.bias is not None:\n",
    "                            y[n,oc,h,w] += self.bias[oc]\n",
    "        # print(f\"y.shape: {y.shape}\")\n",
    "        return y\n",
    "\n",
    "    def backward(self, dy):\n",
    "        N, C, H, W =  dy.shape\n",
    "        N_in, C_in, H_in, W_in = self.x.shape\n",
    "        x_grad = cp.zeros_like(self.x)\n",
    "\n",
    "        for n in range(N):\n",
    "            for oc in range(C):\n",
    "                for h in range(H):\n",
    "                    for w in range(W):\n",
    "                        from_h = h * self.stride\n",
    "                        from_w = w * self.stride\n",
    "                        self.w_grad[oc] += self.x[n,:,from_h:from_h+self.kernel_size, from_w:from_w+self.kernel_size] * dy[n,oc,h,w]\n",
    "                        if self.bias is not None:\n",
    "                            self.b_grad[oc] += dy[n,oc,h,w]\n",
    "                        x_grad[n,:,from_h:from_h+self.kernel_size, from_w:from_w+self.kernel_size] += self.weight[oc]*dy[n,oc,h,w]\n",
    "\n",
    "        if self.padding >0:\n",
    "            x_grad = x_grad[:, :, self.padding:-self.padding, self.padding:-self.padding]\n",
    "\n",
    "        return x_grad\n"
   ]
  },
  {
   "cell_type": "markdown",
   "metadata": {},
   "source": [
    "## Dropout, Batchnorm1d & Batchnorm2d\n",
    "different when training and evaluation"
   ]
  },
  {
   "cell_type": "code",
   "execution_count": null,
   "metadata": {
    "execution": {
     "iopub.execute_input": "2025-03-16T06:10:35.324989Z",
     "iopub.status.busy": "2025-03-16T06:10:35.324767Z",
     "iopub.status.idle": "2025-03-16T06:10:35.350693Z",
     "shell.execute_reply": "2025-03-16T06:10:35.349920Z",
     "shell.execute_reply.started": "2025-03-16T06:10:35.324969Z"
    },
    "id": "L2YERxtj8Ebg",
    "trusted": true
   },
   "outputs": [],
   "source": [
    "class Dropout(Module):\n",
    "    def __init__(self, p = 0.5):\n",
    "        self.p = p\n",
    "        self.training = True\n",
    "\n",
    "    def forward(self, x):\n",
    "        if self.training:\n",
    "            self.var = cp.random.binomial(1, 1-self.p, size = x.shape)\n",
    "            return x * self. var / (1-self.p)\n",
    "        else:\n",
    "            return x\n",
    "        \n",
    "\n",
    "    def backward(self, dy):\n",
    "        if self.training:\n",
    "            return dy * self.var / (1-self.p)\n",
    "        else:\n",
    "            return dy\n",
    "\n",
    "    def train(self):\n",
    "        self.training = True\n",
    "\n",
    "    def eval(self):\n",
    "        self.training = False\n",
    "\n",
    "## similar to batchnorm2d\n",
    "class BatchNorm1d(Module):\n",
    "    def __init__(self, num_features):\n",
    "        self.num_features = num_features\n",
    "        self.eps = 1e-5\n",
    "        self.momentum = 0.1\n",
    "\n",
    "        self.gamma = cp.ones(num_features)\n",
    "        self.gamma_grad = cp.zeros_like(self.gamma)\n",
    "        self.beta = cp.zeros(num_features)\n",
    "        self.beta_grad = cp.zeros_like(self.beta)\n",
    "\n",
    "        self.running_mean = cp.zeros(num_features)\n",
    "        self.running_var = cp.ones(num_features)\n",
    "\n",
    "        self.training = True\n",
    "\n",
    "    @property\n",
    "    def params(self):\n",
    "        return [dict(val=self.gamma, grad=self.gamma_grad), dict(val=self.beta, grad=self.beta_grad)]\n",
    "\n",
    "    def forward(self, x):\n",
    "        self.x = x\n",
    "        if self.training:\n",
    "            self.mean = x.mean(axis=0)\n",
    "            self.var = x.var(axis=0)\n",
    "            self.running_mean = self.momentum * self.mean + (1 - self.momentum) * self.running_mean\n",
    "            self.running_var = self.momentum * self.var + (1 - self.momentum) * self.running_var\n",
    "            self.x_hat = (x - self.mean) / cp.sqrt(self.var + self.eps)\n",
    "            return self.gamma * self.x_hat + self.beta\n",
    "\n",
    "        else:\n",
    "            self.x_hat = (x - self.running_mean) / cp.sqrt(self.running_var + self.eps)\n",
    "            return self.gamma * self.x_hat + self.beta\n",
    "\n",
    "    def backward(self, dy):\n",
    "        if self.training:\n",
    "            N = dy.shape[0]\n",
    "            self.gamma_grad[:] = cp.sum(dy * self.x_hat, axis=0)\n",
    "            self.beta_grad[:] = cp.sum(dy, axis=0)\n",
    "\n",
    "            dnorm = dy * self.gamma\n",
    "            dvar = cp.sum(dnorm * (self.x-self.mean) * -0.5 * (self.var + self.eps) ** (-1.5), axis=0)\n",
    "            dmean = cp.sum(dnorm * -1 / cp.sqrt(self.var + self.eps), axis=0) + dvar * cp.mean(-2 * (self.x-self.mean), axis=0)\n",
    "\n",
    "            dx = dnorm / cp.sqrt(self.var + self.eps) + dvar * 2 * (self.x-self.mean) / N + dmean / N\n",
    "\n",
    "            return dx\n",
    "        else:\n",
    "            return dy * self.gamma / cp.sqrt(self.running_var + self.eps)\n",
    "\n",
    "    def train(self):\n",
    "        self.training = True\n",
    "\n",
    "    def eval(self):\n",
    "        self.training = False\n",
    "\n",
    "class BatchNorm2d(Module):\n",
    "    def __init__(self, num_features):\n",
    "        self.eps = 1e-5\n",
    "        self.momentum = 0.1\n",
    "\n",
    "        self.gamma = cp.ones(num_features)\n",
    "        self.gamma_grad = cp.zeros_like(self.gamma)\n",
    "        self.beta = cp.zeros(num_features)\n",
    "        self.beta_grad = cp.zeros_like(self.beta)\n",
    "\n",
    "        self.running_mean = cp.zeros(num_features)\n",
    "        self.running_var = cp.ones(num_features)\n",
    "\n",
    "        self.training = True\n",
    "\n",
    "    @property\n",
    "    def params(self):\n",
    "        return [dict(val=self.gamma, grad=self.gamma_grad), dict(val=self.beta, grad=self.beta_grad)]\n",
    "\n",
    "    def forward(self, x):\n",
    "        self.x = x\n",
    "        # print(f\"batchnorm2d x.shape:{x.shape}\", end=\"  \")\n",
    "        if self.training:\n",
    "            self.mean = cp.mean(x, axis=(0,2,3), keepdims = True)\n",
    "            self.var = cp.var(x, axis=(0,2,3), keepdims = True)\n",
    "            self.x_hat = (x-self.mean)/cp.sqrt(self.var+self.eps)\n",
    "            y = self.gamma[None, :, None, None] * self.x_hat + self.beta[None, :, None, None]\n",
    "            self.running_mean = (1-self.momentum) * self.running_mean + self.momentum * self.mean\n",
    "            self.running_var = (1-self.momentum) * self.running_var + self.momentum * self.var\n",
    "            # print(f\"y.shape:{y.shape}\")\n",
    "            return y\n",
    "        else:\n",
    "            self.x_hat = (x - self.running_mean) / cp.sqrt(self.running_var + self.eps)\n",
    "            y = self.gamma[None, :, None, None] * self.x_hat + self.beta[None, :, None, None]\n",
    "            return y\n",
    "\n",
    "    def backward(self, dy):\n",
    "        N, C, H, W = dy.shape\n",
    "        if self.training:\n",
    "            self.gamma_grad[:] = cp.sum(dy * self.x_hat, axis=(0,2,3))\n",
    "            self.beta_grad[:] = cp.sum(dy, axis=(0,2,3))\n",
    "\n",
    "            dx_hat = dy * self.gamma[None, :, None, None]\n",
    "            dvar = cp.sum(dx_hat * (self.x-self.mean) / (-2) * (self.var + self.eps)**(-1.5), axis=(0,2,3), keepdims = True)\n",
    "            dmean = cp.sum(dx_hat / (-cp.sqrt(self.var + self.eps)), axis=(0,2,3), keepdims = True) + dvar * cp.mean(-2 * (self.x-self.mean), axis=(0,2,3), keepdims = True)\n",
    "            dx = dx_hat / cp.sqrt(self.var + self.eps) + dvar * 2 * (self.x-self.mean) / (N*H*W) + dmean / (N*H*W)\n",
    "            return dx\n",
    "        else:\n",
    "            dx = dy * self.gamma[None, :, None, None] / cp.sqrt(self.running_var + self.eps)\n",
    "            return dx\n",
    "\n",
    "    def train(self):\n",
    "        self.training = True\n",
    "\n",
    "    def eval(self):\n",
    "        self.training = False"
   ]
  },
  {
   "cell_type": "markdown",
   "metadata": {},
   "source": [
    "## MaxPool2d, Flatten"
   ]
  },
  {
   "cell_type": "code",
   "execution_count": 9,
   "metadata": {
    "execution": {
     "iopub.execute_input": "2025-03-16T06:10:35.352048Z",
     "iopub.status.busy": "2025-03-16T06:10:35.351795Z",
     "iopub.status.idle": "2025-03-16T06:10:35.376048Z",
     "shell.execute_reply": "2025-03-16T06:10:35.375272Z",
     "shell.execute_reply.started": "2025-03-16T06:10:35.352027Z"
    },
    "id": "qzsxbwlRZpbM",
    "trusted": true
   },
   "outputs": [],
   "source": [
    "class MaxPool2d(Module):\n",
    "    def __init__(self, kernel_size, stride=None):\n",
    "        self.kernel_size = kernel_size\n",
    "        self.stride = stride if stride else kernel_size\n",
    "\n",
    "    def forward(self, x):\n",
    "        self.x = x\n",
    "        N, C, H, W = x.shape\n",
    "        H_out = (H - self.kernel_size) // self.stride + 1\n",
    "        W_out = (W - self.kernel_size) // self.stride + 1\n",
    "\n",
    "        y = cp.zeros((N, C, H_out, W_out))\n",
    "        self.max_indices = cp.zeros_like(x, dtype=bool)\n",
    "\n",
    "        for n in range(N):\n",
    "            for c in range(C):\n",
    "                for h in range(H_out):\n",
    "                    for w in range(W_out):\n",
    "                        from_h, from_w = h * self.stride, w * self.stride\n",
    "                        region = x[n, c, from_h : from_h+self.kernel_size, from_w : from_w+self.kernel_size]\n",
    "\n",
    "                        max_val = cp.max(region)\n",
    "                        y[n, c, h, w] = max_val\n",
    "\n",
    "                        flag = (region == max_val)\n",
    "                        self.max_indices[n, c, from_h : from_h+self.kernel_size, from_w : from_w+self.kernel_size] = cp.maximum(self.max_indices[n, c, from_h : from_h+self.kernel_size, from_w : from_w+self.kernel_size], flag)\n",
    "        # print(f\"maxpool2d x.shape:{x.shape},y.shape:{y.shape}\")\n",
    "        return y\n",
    "\n",
    "    def backward(self, dy):\n",
    "        dx = cp.zeros_like(self.x)\n",
    "        N, C, H, W = dy.shape\n",
    "\n",
    "        for n in range(N):\n",
    "            for c in range(C):\n",
    "                for h in range(H):\n",
    "                    for w in range(W):\n",
    "                        from_h, from_w = h * self.stride, w * self.stride\n",
    "\n",
    "                        dx[n, c, from_h : from_h+self.kernel_size, from_w : from_w+self.kernel_size] += self.max_indices[n, c, from_h : from_h+self.kernel_size, from_w : from_w+self.kernel_size] * dy[n, c, h, w]\n",
    "\n",
    "        return dx\n"
   ]
  },
  {
   "cell_type": "code",
   "execution_count": null,
   "metadata": {
    "execution": {
     "iopub.execute_input": "2025-03-16T06:10:35.376996Z",
     "iopub.status.busy": "2025-03-16T06:10:35.376765Z",
     "iopub.status.idle": "2025-03-16T06:10:35.400904Z",
     "shell.execute_reply": "2025-03-16T06:10:35.400285Z",
     "shell.execute_reply.started": "2025-03-16T06:10:35.376975Z"
    },
    "id": "5TjgtluvYUO8",
    "trusted": true
   },
   "outputs": [],
   "source": [
    "class Flatten(Module):\n",
    "    def forward(self, x):      ## (n,c,h,w)-->(n,c*h*w)\n",
    "        self.input_shape = x.shape\n",
    "        y = x.reshape(x.shape[0], -1)\n",
    "        # print(f\"flatten:x.shape{x.shape},y.shape{y.shape}\")\n",
    "        return y\n",
    "\n",
    "    def backward(self, dy):\n",
    "        return dy.reshape(self.input_shape)"
   ]
  },
  {
   "cell_type": "markdown",
   "metadata": {
    "id": "pbiiuMHp8Ebg"
   },
   "source": [
    "## CrossEntropyLoss and  FocalLoss\n",
    "\n",
    "This implements the [CrossEntropyLoss](https://pytorch.org/docs/stable/generated/torch.nn.CrossEntropyLoss.html) loss.\n"
   ]
  },
  {
   "cell_type": "code",
   "execution_count": null,
   "metadata": {
    "execution": {
     "iopub.execute_input": "2025-03-16T06:10:35.401836Z",
     "iopub.status.busy": "2025-03-16T06:10:35.401553Z",
     "iopub.status.idle": "2025-03-16T06:10:35.418402Z",
     "shell.execute_reply": "2025-03-16T06:10:35.417649Z",
     "shell.execute_reply.started": "2025-03-16T06:10:35.401815Z"
    },
    "id": "yRe0i3458Ebh",
    "trusted": true
   },
   "outputs": [],
   "source": [
    "def onehot(x, num_classes=10):\n",
    "    y = cp.zeros([len(x), num_classes])\n",
    "    y[cp.arange(len(x)), x] = 1\n",
    "    return y\n",
    "\n",
    "\n",
    "class CrossEntropyLoss(Module):\n",
    "    def forward(self, x_logit, x_target):\n",
    "        self.x_logit = x_logit\n",
    "        self.x_target = x_target\n",
    "\n",
    "        # softmax\n",
    "        x_logit_sub = cp.exp(x_logit - cp.max(x_logit, axis=1, keepdims=True))\n",
    "        x_softmax = x_logit_sub / cp.sum(x_logit_sub, axis=1, keepdims=True)\n",
    "        x_softmax = cp.clip(x_softmax, a_min=1e-15, a_max=None) # to avoid zero values\n",
    "        self.x_softmax = x_softmax # save for backward\n",
    "\n",
    "        # loss of each item\n",
    "        loss_x = -cp.log(x_softmax)[cp.arange(len(x_target)), x_target]\n",
    "\n",
    "        # average\n",
    "        return loss_x.mean()\n",
    "\n",
    "    def backward(self, dy):\n",
    "        return dy * (self.x_softmax - onehot(self.x_target)) / len(self.x_logit)\n",
    "\n",
    "class FocalLoss(Module): ## little modification to cross-entropy loss\n",
    "    def __init__(self, alpha = 0.25, gamma = 2):\n",
    "        self.alpha = alpha\n",
    "        self.gamma = gamma\n",
    "\n",
    "    def forward(self,x_logit, x_target):\n",
    "        self.x_logit = x_logit\n",
    "        self.x_target = x_target\n",
    "\n",
    "        x_logit_sub = cp.exp(x_logit - cp.max(x_logit, axis=1, keepdims=True))\n",
    "        x_softmax = x_logit_sub / cp.sum(x_logit_sub, axis=1, keepdims=True)\n",
    "        x_softmax = cp.clip(x_softmax, a_min=1e-15, a_max=None) \n",
    "        self.x_softmax = x_softmax\n",
    "\n",
    "        pt = x_softmax[cp.arange(len(x_target)), x_target]\n",
    "        loss_x = -self.alpha * (1-pt) ** (self.gamma) * cp.log(pt)\n",
    "\n",
    "        return loss_x.mean()\n",
    "\n",
    "    def backward(self, dy):\n",
    "        pt = self.x_softmax[cp.arange(len(self.x_target)), self.x_target].reshape(-1, 1)\n",
    "        dpt = self.alpha * (1-pt)**self.gamma * (self.gamma * cp.log(pt)/(1-pt) - 1/pt)\n",
    "        grad = dpt * (self.x_softmax - onehot(self.x_target))\n",
    "        return dy * grad / len(self.x_softmax)\n",
    "\n",
    "\n"
   ]
  },
  {
   "cell_type": "markdown",
   "metadata": {
    "id": "EiKIkm3J8Ebh"
   },
   "source": [
    "## Optimizer"
   ]
  },
  {
   "cell_type": "code",
   "execution_count": 12,
   "metadata": {
    "execution": {
     "iopub.execute_input": "2025-03-16T06:10:35.419335Z",
     "iopub.status.busy": "2025-03-16T06:10:35.419134Z",
     "iopub.status.idle": "2025-03-16T06:10:35.441914Z",
     "shell.execute_reply": "2025-03-16T06:10:35.441212Z",
     "shell.execute_reply.started": "2025-03-16T06:10:35.419316Z"
    },
    "id": "Tml-2RY38Ebh",
    "trusted": true
   },
   "outputs": [],
   "source": [
    "class Optim:\n",
    "    def __init__(self, params, lr=0.01):\n",
    "        self.params = params\n",
    "        self.lr = lr\n",
    "\n",
    "    def zero_grad(self):\n",
    "        for idx in range(len(self.params)):\n",
    "            self.params[idx][\"grad\"][:] = 0.0"
   ]
  },
  {
   "cell_type": "code",
   "execution_count": 13,
   "metadata": {
    "execution": {
     "iopub.execute_input": "2025-03-16T06:10:35.442901Z",
     "iopub.status.busy": "2025-03-16T06:10:35.442673Z",
     "iopub.status.idle": "2025-03-16T06:10:35.461428Z",
     "shell.execute_reply": "2025-03-16T06:10:35.460632Z",
     "shell.execute_reply.started": "2025-03-16T06:10:35.442882Z"
    },
    "id": "qXu0nQy18Ebh",
    "trusted": true
   },
   "outputs": [],
   "source": [
    "class SGD(Optim):\n",
    "    def __init__(self, params, lr=1e-3, momentum = 0):\n",
    "        super().__init__(params, lr)\n",
    "        self.momentum = momentum\n",
    "        self.v = [cp.zeros_like(p[\"val\"]) for p in self.params]\n",
    "\n",
    "    def step(self):\n",
    "        for idx in range(len(self.params)):\n",
    "            self.v[idx] = self.momentum * self.v[idx] - self.lr * self.params[idx][\"grad\"]\n",
    "            self.params[idx][\"val\"] += self.v[idx]\n",
    "\n",
    "class Adam(Optim):\n",
    "    def __init__(self, params, lr = 1e-3, weight_decay = 0):\n",
    "        super().__init__(params, lr)\n",
    "        self.beta1 = 0.9\n",
    "        self.beta2 = 0.999\n",
    "        self.eps = 1e-8\n",
    "        self.weight_decay = weight_decay  # align with my setting in part A\n",
    "        self.m = [cp.zeros_like(p[\"val\"]) for p in self.params]\n",
    "        self.v = [cp.zeros_like(p[\"val\"]) for p in self.params]\n",
    "        self.t = 0\n",
    "\n",
    "    def step(self):\n",
    "        self.t += 1\n",
    "        for idx in range(len(self.params)):\n",
    "            if self.weight_decay != 0:\n",
    "                self.params[idx][\"grad\"] += self.weight_decay * self.params[idx][\"val\"]\n",
    "            self.m[idx] = self.beta1 * self.m[idx] + (1-self.beta1) * self.params[idx][\"grad\"]\n",
    "            self.v[idx] = self.beta2 * self.v[idx] + (1-self.beta2) * self.params[idx][\"grad\"] **2\n",
    "\n",
    "            m_hat = self.m[idx] / (1 - self.beta1 ** self.t)\n",
    "            v_hat = self.v[idx] / (1 - self.beta2 ** self.t)\n",
    "\n",
    "            self.params[idx][\"val\"] -= self.lr * m_hat / (cp.sqrt(v_hat) + self.eps)\n",
    "\n",
    "\n"
   ]
  },
  {
   "cell_type": "markdown",
   "metadata": {
    "id": "Y-iniyWy8Ebi"
   },
   "source": [
    "## Your Network"
   ]
  },
  {
   "cell_type": "code",
   "execution_count": null,
   "metadata": {
    "execution": {
     "iopub.execute_input": "2025-03-16T06:10:35.462550Z",
     "iopub.status.busy": "2025-03-16T06:10:35.462255Z",
     "iopub.status.idle": "2025-03-16T06:10:35.713220Z",
     "shell.execute_reply": "2025-03-16T06:10:35.712481Z",
     "shell.execute_reply.started": "2025-03-16T06:10:35.462520Z"
    },
    "id": "2Ualzf0x8Ebi",
    "trusted": true
   },
   "outputs": [],
   "source": [
    "# net = Sequential(\n",
    "#     LinearNoBias(784, 512), Softplus(),\n",
    "#     LinearNoBias(512, 256), Softplus(),\n",
    "#     LinearNoBias(256, 128), Softplus(),\n",
    "#     LinearNoBias(128, 10),\n",
    "# )\n",
    "\n",
    "# try\n",
    "# net = Sequential(\n",
    "#               Conv2d(1, 128, 3, padding=1), BatchNorm2d(128), LeakyReLU(0), MaxPool2d(2), Dropout(0.3),\n",
    "#               Flatten(),\n",
    "#               # Linear(128 * 14 * 14, 128), BatchNorm1d(128), LeakyReLU(0), Dropout(0.5),\n",
    "#               Linear(128*14*14, 10)\n",
    "#         )\n",
    "\n",
    "net = Sequential(\n",
    "              Conv2d(1, 128, 3, padding=1), BatchNorm2d(128), LeakyReLU(0), MaxPool2d(2), Dropout(0.3),\n",
    "              Conv2d(128, 256, 3, padding=1), BatchNorm2d(256), LeakyReLU(0), MaxPool2d(2), Dropout(0.3),\n",
    "              Conv2d(256, 512, 3, padding=1), BatchNorm2d(512), LeakyReLU(0),\n",
    "              Conv2d(512, 512, 3, padding=1), BatchNorm2d(512), LeakyReLU(0), MaxPool2d(2), Dropout(0.4),\n",
    "            \n",
    "              Flatten(),\n",
    "\n",
    "              Linear(512 * 3 * 3, 512), BatchNorm1d(512), LeakyReLU(0), Dropout(0.5),\n",
    "              Linear(512, 256), BatchNorm1d(256), LeakyReLU(0), Dropout(0.5),\n",
    "              Linear(256, 10)\n",
    "        )\n",
    "\n",
    "loss_fn = CrossEntropyLoss()"
   ]
  },
  {
   "cell_type": "markdown",
   "metadata": {
    "id": "TNN7zEwL8Ebi"
   },
   "source": [
    "## Training"
   ]
  },
  {
   "cell_type": "code",
   "execution_count": 15,
   "metadata": {
    "colab": {
     "base_uri": "https://localhost:8080/"
    },
    "execution": {
     "iopub.execute_input": "2025-03-16T06:10:35.714172Z",
     "iopub.status.busy": "2025-03-16T06:10:35.713914Z",
     "iopub.status.idle": "2025-03-16T06:10:35.807037Z",
     "shell.execute_reply": "2025-03-16T06:10:35.806354Z",
     "shell.execute_reply.started": "2025-03-16T06:10:35.714150Z"
    },
    "id": "gVmASPR-8Ebi",
    "outputId": "20df5989-aa2c-48ae-eb00-e547c98dc93f",
    "trusted": true
   },
   "outputs": [],
   "source": [
    "# some experimental setup\n",
    "num_epochs = 2\n",
    "batch_size = 32  #128\n",
    "num_workers = 2\n",
    "print_every = 300\n",
    "\n",
    "# prepare datasets\n",
    "dataset, loader = {}, {}\n",
    "for data_type in (\"train\", \"test\"):\n",
    "    is_train = data_type==\"train\"\n",
    "    dataset[data_type] = tv_datasets.MNIST(\n",
    "        root=\"./data\", train=is_train, download=True,\n",
    "        transform=tv_transforms.Compose([ # preprocessing pipeline for input images\n",
    "            tv_transforms.ToTensor(),\n",
    "            tv_transforms.Normalize((0.1307,), (0.3081,)),\n",
    "    ]))\n",
    "    loader[data_type] = DataLoader(\n",
    "        dataset[data_type], batch_size=batch_size, shuffle=is_train, num_workers=num_workers,\n",
    "    )\n"
   ]
  },
  {
   "cell_type": "code",
   "execution_count": null,
   "metadata": {},
   "outputs": [
    {
     "name": "stdout",
     "output_type": "stream",
     "text": [
      "epoch 0\n",
      "processing image: \n",
      "1 31 61 91 121 151 181 211 241 271 \n",
      "[epoch=  1, iter=  300] loss: 1.234\n",
      "301 331 361 391 421 451 481 511 541 571 \n",
      "[epoch=  1, iter=  600] loss: 1.097\n",
      "601 631 661 691 721 751 781 811 841 871 \n",
      "[epoch=  1, iter=  900] loss: 1.003\n",
      "901 931 961 991 1021 1051 1081 1111 1141 1171 \n",
      "[epoch=  1, iter= 1200] loss: 0.877\n",
      "1201 1231 1261 1291 1321 1351 1381 1411 1441 1471 \n",
      "[epoch=  1, iter= 1500] loss: 0.784\n",
      "1501 1531 1561 1591 1621 1651 1681 1711 1741 1771 \n",
      "[epoch=  1, iter= 1800] loss: 0.633\n",
      "1801 1831 1861 epoch 1\n",
      "processing image: \n",
      "1 31 61 91 121 151 181 211 241 271 \n",
      "[epoch=  2, iter=  300] loss: 0.515\n",
      "301 331 361 391 421 451 481 511 541 571 \n",
      "[epoch=  2, iter=  600] loss: 0.520\n",
      "601 631 661 691 721 751 781 811 841 871 \n",
      "[epoch=  2, iter=  900] loss: 0.333\n",
      "901 931 961 991 1021 1051 1081 1111 1141 1171 \n",
      "[epoch=  2, iter= 1200] loss: 0.253\n",
      "1201 1231 1261 1291 1321 1351 1381 1411 1441 1471 \n",
      "[epoch=  2, iter= 1500] loss: 0.227\n",
      "1501 1531 1561 1591 1621 1651 1681 1711 1741 1771 \n",
      "[epoch=  2, iter= 1800] loss: 0.204\n",
      "1801 1831 1861 Finished Training\n"
     ]
    }
   ],
   "source": [
    "optimizer = SGD(net.params,lr=1e-3,momentum=0.9)\n",
    "net.train()\n",
    "for epoch in range(num_epochs):\n",
    "    print(f\"epoch {epoch}\")\n",
    "    running_loss = 0.0\n",
    "    print(\"processing image: \")\n",
    "    for i, (img, target) in enumerate(loader[\"train\"]):\n",
    "        if i % 30 == 0:\n",
    "            print(i+1, end = \" \")\n",
    "        img, target = cp.array(img), cp.array(target)\n",
    "        # print(img.shape)                                                                                                     \n",
    "        # img = img.reshape(-1, 784)\n",
    "        # print(img.shape)\n",
    "\n",
    "        loss = loss_fn(net(img), target)\n",
    "\n",
    "        net.backward(loss_fn.backward(loss))\n",
    "        optimizer.step()\n",
    "        optimizer.zero_grad()\n",
    "    \n",
    "\n",
    "        # print statistics\n",
    "        running_loss += loss.item()\n",
    "        if i % print_every == print_every - 1:\n",
    "            print()\n",
    "            print(f\"[epoch={epoch + 1:3d}, iter={i + 1:5d}] loss: {running_loss / print_every:.3f}\")\n",
    "            running_loss = 0.0\n",
    "\n",
    "print(\"Finished Training\")\n"
   ]
  },
  {
   "cell_type": "markdown",
   "metadata": {
    "id": "iE-JrDOe8Ebk"
   },
   "source": [
    "## Evaluate"
   ]
  },
  {
   "cell_type": "code",
   "execution_count": null,
   "metadata": {
    "execution": {
     "iopub.execute_input": "2025-03-16T06:17:17.253559Z",
     "iopub.status.busy": "2025-03-16T06:17:17.253250Z",
     "iopub.status.idle": "2025-03-16T06:17:17.258068Z",
     "shell.execute_reply": "2025-03-16T06:17:17.257213Z",
     "shell.execute_reply.started": "2025-03-16T06:17:17.253536Z"
    },
    "trusted": true
   },
   "outputs": [
    {
     "name": "stdout",
     "output_type": "stream",
     "text": [
      "Accuracy of the network on the 10000 test images: 96.87%\n"
     ]
    }
   ],
   "source": [
    "# for each test image\n",
    "net.eval()\n",
    "correct, total = 0, 0\n",
    "for img, target in loader[\"test\"]:\n",
    "    img, target = cp.array(img), cp.array(target)\n",
    "    # img = img.reshape(-1, 784)\n",
    "\n",
    "    # make prediction\n",
    "    pred = net(img)\n",
    "\n",
    "    # accumulate\n",
    "    total += len(target)\n",
    "    correct += (cp.argmax(pred, axis=1) == target).sum()\n",
    "\n",
    "print(f\"Accuracy of the network on the {total} test images: {100 * correct / total:.2f}%\")\n"
   ]
  },
  {
   "cell_type": "markdown",
   "metadata": {},
   "source": [
    "## Visualization"
   ]
  },
  {
   "cell_type": "code",
   "execution_count": null,
   "metadata": {
    "trusted": true
   },
   "outputs": [
    {
     "data": {
      "text/plain": [
       "(95.0, 100.0)"
      ]
     },
     "execution_count": 28,
     "metadata": {},
     "output_type": "execute_result"
    },
    {
     "data": {
      "image/png": "[encoded data removed]",
      "text/plain": [
       "<Figure size 1400x400 with 2 Axes>"
      ]
     },
     "metadata": {},
     "output_type": "display_data"
    }
   ],
   "source": [
    "import matplotlib.pyplot as plt\n",
    "import numpy as np\n",
    "'''torch_output=    [epoch=  1, iter=  300] loss: 0.567\n",
    "                    [epoch=  1, iter=  600] loss: 0.231\n",
    "                    [epoch=  1, iter=  900] loss: 0.176\n",
    "                    [epoch=  1, iter= 1200] loss: 0.138\n",
    "                    [epoch=  1, iter= 1500] loss: 0.141\n",
    "                    [epoch=  1, iter= 1800] loss: 0.125\n",
    "                    [epoch=  2, iter=  300] loss: 0.117\n",
    "                    [epoch=  2, iter=  600] loss: 0.116\n",
    "                    [epoch=  2, iter=  900] loss: 0.106\n",
    "                    [epoch=  2, iter= 1200] loss: 0.100\n",
    "                    [epoch=  2, iter= 1500] loss: 0.095\n",
    "                    [epoch=  2, iter= 1800] loss: 0.094\n",
    "                    \n",
    "no_torch_output  =  [epoch=  1, iter=  300] loss: 1.234\n",
    "                    [epoch=  1, iter=  600] loss: 1.097\n",
    "                    [epoch=  1, iter=  900] loss: 1.003\n",
    "                    [epoch=  1, iter= 1200] loss: 0.877\n",
    "                    [epoch=  1, iter= 1500] loss: 0.784\n",
    "                    [epoch=  1, iter= 1800] loss: 0.633\n",
    "                    [epoch=  2, iter=  300] loss: 0.515\n",
    "                    [epoch=  2, iter=  600] loss: 0.520\n",
    "                    [epoch=  2, iter=  900] loss: 0.333\n",
    "                    [epoch=  2, iter= 1200] loss: 0.253\n",
    "                    [epoch=  2, iter= 1500] loss: 0.227\n",
    "                    [epoch=  2, iter= 1800] loss: 0.204\n",
    "                    '''\n",
    "torch_losses = [0.567, 0.231, 0.176, 0.138, 0.141, 0.125, 0.117, 0.116, 0.106, 0.100, 0.095, 0.094]\n",
    "no_torch_losses = [1.234, 1.097, 1.003, 0.877, 0.784, 0.633, 0.515, 0.520, 0.333, 0.253, 0.227, 0.204]\n",
    "iterations = [300, 600, 900, 1200, 1500, 1800, 2100, 2400, 2700, 3000, 3300, 3600]\n",
    "acc = [99.22, 96.87]\n",
    "plt.figure(figsize=(14,4))\n",
    "plt.subplot(121)\n",
    "plt.plot(iterations, torch_losses, label = \"with torch\",color=\"blue\")\n",
    "plt.plot(iterations, no_torch_losses, label = \"no torch\", color = \"orange\")\n",
    "plt.ylabel(\"Training Loss\")\n",
    "plt.xlabel(\"Iterations\")\n",
    "plt.legend()\n",
    "plt.grid()\n",
    "plt.subplot(122)\n",
    "models = [\"With torch\", \"Without torch\"]\n",
    "accuracies = [99.22, 96.87]\n",
    "plt.bar(models, accuracies, color=['blue', 'orange'], alpha = 0.7)\n",
    "plt.ylabel(\"Accuracy (%)\")\n",
    "plt.ylim(95, 100)"
   ]
  },
  {
   "cell_type": "code",
   "execution_count": null,
   "metadata": {},
   "outputs": [],
   "source": []
  },
  {
   "cell_type": "code",
   "execution_count": null,
   "metadata": {},
   "outputs": [],
   "source": []
  }
 ],
 "metadata": {
  "accelerator": "GPU",
  "colab": {
   "gpuType": "T4",
   "provenance": []
  },
  "kaggle": {
   "accelerator": "nvidiaTeslaT4",
   "dataSources": [],
   "dockerImageVersionId": 30919,
   "isGpuEnabled": true,
   "isInternetEnabled": true,
   "language": "python",
   "sourceType": "notebook"
  },
  "kernelspec": {
   "display_name": "base",
   "language": "python",
   "name": "python3"
  },
  "language_info": {
   "codemirror_mode": {
    "name": "ipython",
    "version": 3
   },
   "file_extension": ".py",
   "mimetype": "text/x-python",
   "name": "python",
   "nbconvert_exporter": "python",
   "pygments_lexer": "ipython3",
   "version": "3.9.13"
  }
 },
 "nbformat": 4,
 "nbformat_minor": 4
}
